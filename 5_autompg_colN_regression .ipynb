{
 "cells": [
  {
   "cell_type": "code",
   "execution_count": 1,
   "id": "9c661dcd",
   "metadata": {},
   "outputs": [],
   "source": [
    "import sklearn"
   ]
  },
  {
   "cell_type": "code",
   "execution_count": 2,
   "id": "46fc8ae6",
   "metadata": {},
   "outputs": [],
   "source": [
    "import pandas as pd"
   ]
  },
  {
   "cell_type": "code",
   "execution_count": 3,
   "id": "36361aff",
   "metadata": {},
   "outputs": [
    {
     "name": "stdout",
     "output_type": "stream",
     "text": [
      " C 드라이브의 볼륨: Windows\n",
      " 볼륨 일련 번호: 729B-BAE0\n",
      "\n",
      " C:\\Develops\\multi_machinelearning\\files 디렉터리\n",
      "\n",
      "2021-06-29  오후 04:09            21,913 auto-mpg.csv\n",
      "               1개 파일              21,913 바이트\n",
      "               0개 디렉터리  194,096,676,864 바이트 남음\n"
     ]
    }
   ],
   "source": [
    "!dir.\\files\\auto-mpg.csv"
   ]
  },
  {
   "cell_type": "markdown",
   "id": "d88c38d4",
   "metadata": {},
   "source": [
    "object 주의깊게 확인하기\n",
    "숫자로 들어가야하는데 object로 잡혔다면 의심해야해~\n",
    "그래서 빼고 진행할게"
   ]
  },
  {
   "cell_type": "markdown",
   "id": "19904170",
   "metadata": {},
   "source": [
    "* 데이터 읽고 필요한 부분 찾음"
   ]
  },
  {
   "cell_type": "code",
   "execution_count": 4,
   "id": "809676c1",
   "metadata": {},
   "outputs": [
    {
     "name": "stdout",
     "output_type": "stream",
     "text": [
      "<class 'pandas.core.frame.DataFrame'>\n",
      "RangeIndex: 398 entries, 0 to 397\n",
      "Data columns (total 9 columns):\n",
      " #   Column  Non-Null Count  Dtype  \n",
      "---  ------  --------------  -----  \n",
      " 0   0       398 non-null    float64\n",
      " 1   1       398 non-null    int64  \n",
      " 2   2       398 non-null    float64\n",
      " 3   3       398 non-null    object \n",
      " 4   4       398 non-null    float64\n",
      " 5   5       398 non-null    float64\n",
      " 6   6       398 non-null    int64  \n",
      " 7   7       398 non-null    int64  \n",
      " 8   8       398 non-null    object \n",
      "dtypes: float64(4), int64(3), object(2)\n",
      "memory usage: 28.1+ KB\n"
     ]
    }
   ],
   "source": [
    "pd_data=pd.read_csv('./files/auto-mpg.csv', header=None)\n",
    "pd_data.info()"
   ]
  },
  {
   "cell_type": "code",
   "execution_count": 5,
   "id": "5c5f6a87",
   "metadata": {},
   "outputs": [
    {
     "data": {
      "text/plain": [
       "(398, 9)"
      ]
     },
     "execution_count": 5,
     "metadata": {},
     "output_type": "execute_result"
    }
   ],
   "source": [
    "pd_data.shape"
   ]
  },
  {
   "cell_type": "code",
   "execution_count": 6,
   "id": "390b1172",
   "metadata": {},
   "outputs": [
    {
     "data": {
      "text/html": [
       "<div>\n",
       "<style scoped>\n",
       "    .dataframe tbody tr th:only-of-type {\n",
       "        vertical-align: middle;\n",
       "    }\n",
       "\n",
       "    .dataframe tbody tr th {\n",
       "        vertical-align: top;\n",
       "    }\n",
       "\n",
       "    .dataframe thead th {\n",
       "        text-align: right;\n",
       "    }\n",
       "</style>\n",
       "<table border=\"1\" class=\"dataframe\">\n",
       "  <thead>\n",
       "    <tr style=\"text-align: right;\">\n",
       "      <th></th>\n",
       "      <th>mpg</th>\n",
       "      <th>cylinders</th>\n",
       "      <th>displacement</th>\n",
       "      <th>horsepower</th>\n",
       "      <th>weight</th>\n",
       "      <th>acceleration</th>\n",
       "      <th>model year</th>\n",
       "      <th>origin</th>\n",
       "      <th>name</th>\n",
       "    </tr>\n",
       "  </thead>\n",
       "  <tbody>\n",
       "    <tr>\n",
       "      <th>0</th>\n",
       "      <td>18.0</td>\n",
       "      <td>8</td>\n",
       "      <td>307.0</td>\n",
       "      <td>130.0</td>\n",
       "      <td>3504.0</td>\n",
       "      <td>12.0</td>\n",
       "      <td>70</td>\n",
       "      <td>1</td>\n",
       "      <td>chevrolet chevelle malibu</td>\n",
       "    </tr>\n",
       "    <tr>\n",
       "      <th>1</th>\n",
       "      <td>15.0</td>\n",
       "      <td>8</td>\n",
       "      <td>350.0</td>\n",
       "      <td>165.0</td>\n",
       "      <td>3693.0</td>\n",
       "      <td>11.5</td>\n",
       "      <td>70</td>\n",
       "      <td>1</td>\n",
       "      <td>buick skylark 320</td>\n",
       "    </tr>\n",
       "    <tr>\n",
       "      <th>2</th>\n",
       "      <td>18.0</td>\n",
       "      <td>8</td>\n",
       "      <td>318.0</td>\n",
       "      <td>150.0</td>\n",
       "      <td>3436.0</td>\n",
       "      <td>11.0</td>\n",
       "      <td>70</td>\n",
       "      <td>1</td>\n",
       "      <td>plymouth satellite</td>\n",
       "    </tr>\n",
       "    <tr>\n",
       "      <th>3</th>\n",
       "      <td>16.0</td>\n",
       "      <td>8</td>\n",
       "      <td>304.0</td>\n",
       "      <td>150.0</td>\n",
       "      <td>3433.0</td>\n",
       "      <td>12.0</td>\n",
       "      <td>70</td>\n",
       "      <td>1</td>\n",
       "      <td>amc rebel sst</td>\n",
       "    </tr>\n",
       "    <tr>\n",
       "      <th>4</th>\n",
       "      <td>17.0</td>\n",
       "      <td>8</td>\n",
       "      <td>302.0</td>\n",
       "      <td>140.0</td>\n",
       "      <td>3449.0</td>\n",
       "      <td>10.5</td>\n",
       "      <td>70</td>\n",
       "      <td>1</td>\n",
       "      <td>ford torino</td>\n",
       "    </tr>\n",
       "    <tr>\n",
       "      <th>...</th>\n",
       "      <td>...</td>\n",
       "      <td>...</td>\n",
       "      <td>...</td>\n",
       "      <td>...</td>\n",
       "      <td>...</td>\n",
       "      <td>...</td>\n",
       "      <td>...</td>\n",
       "      <td>...</td>\n",
       "      <td>...</td>\n",
       "    </tr>\n",
       "    <tr>\n",
       "      <th>393</th>\n",
       "      <td>27.0</td>\n",
       "      <td>4</td>\n",
       "      <td>140.0</td>\n",
       "      <td>86.00</td>\n",
       "      <td>2790.0</td>\n",
       "      <td>15.6</td>\n",
       "      <td>82</td>\n",
       "      <td>1</td>\n",
       "      <td>ford mustang gl</td>\n",
       "    </tr>\n",
       "    <tr>\n",
       "      <th>394</th>\n",
       "      <td>44.0</td>\n",
       "      <td>4</td>\n",
       "      <td>97.0</td>\n",
       "      <td>52.00</td>\n",
       "      <td>2130.0</td>\n",
       "      <td>24.6</td>\n",
       "      <td>82</td>\n",
       "      <td>2</td>\n",
       "      <td>vw pickup</td>\n",
       "    </tr>\n",
       "    <tr>\n",
       "      <th>395</th>\n",
       "      <td>32.0</td>\n",
       "      <td>4</td>\n",
       "      <td>135.0</td>\n",
       "      <td>84.00</td>\n",
       "      <td>2295.0</td>\n",
       "      <td>11.6</td>\n",
       "      <td>82</td>\n",
       "      <td>1</td>\n",
       "      <td>dodge rampage</td>\n",
       "    </tr>\n",
       "    <tr>\n",
       "      <th>396</th>\n",
       "      <td>28.0</td>\n",
       "      <td>4</td>\n",
       "      <td>120.0</td>\n",
       "      <td>79.00</td>\n",
       "      <td>2625.0</td>\n",
       "      <td>18.6</td>\n",
       "      <td>82</td>\n",
       "      <td>1</td>\n",
       "      <td>ford ranger</td>\n",
       "    </tr>\n",
       "    <tr>\n",
       "      <th>397</th>\n",
       "      <td>31.0</td>\n",
       "      <td>4</td>\n",
       "      <td>119.0</td>\n",
       "      <td>82.00</td>\n",
       "      <td>2720.0</td>\n",
       "      <td>19.4</td>\n",
       "      <td>82</td>\n",
       "      <td>1</td>\n",
       "      <td>chevy s-10</td>\n",
       "    </tr>\n",
       "  </tbody>\n",
       "</table>\n",
       "<p>398 rows × 9 columns</p>\n",
       "</div>"
      ],
      "text/plain": [
       "      mpg  cylinders  displacement horsepower  weight  acceleration  \\\n",
       "0    18.0          8         307.0      130.0  3504.0          12.0   \n",
       "1    15.0          8         350.0      165.0  3693.0          11.5   \n",
       "2    18.0          8         318.0      150.0  3436.0          11.0   \n",
       "3    16.0          8         304.0      150.0  3433.0          12.0   \n",
       "4    17.0          8         302.0      140.0  3449.0          10.5   \n",
       "..    ...        ...           ...        ...     ...           ...   \n",
       "393  27.0          4         140.0      86.00  2790.0          15.6   \n",
       "394  44.0          4          97.0      52.00  2130.0          24.6   \n",
       "395  32.0          4         135.0      84.00  2295.0          11.6   \n",
       "396  28.0          4         120.0      79.00  2625.0          18.6   \n",
       "397  31.0          4         119.0      82.00  2720.0          19.4   \n",
       "\n",
       "     model year  origin                       name  \n",
       "0            70       1  chevrolet chevelle malibu  \n",
       "1            70       1          buick skylark 320  \n",
       "2            70       1         plymouth satellite  \n",
       "3            70       1              amc rebel sst  \n",
       "4            70       1                ford torino  \n",
       "..          ...     ...                        ...  \n",
       "393          82       1            ford mustang gl  \n",
       "394          82       2                  vw pickup  \n",
       "395          82       1              dodge rampage  \n",
       "396          82       1                ford ranger  \n",
       "397          82       1                 chevy s-10  \n",
       "\n",
       "[398 rows x 9 columns]"
      ]
     },
     "execution_count": 6,
     "metadata": {},
     "output_type": "execute_result"
    }
   ],
   "source": [
    "pd_data.columns = ['mpg','cylinders','displacement','horsepower','weight',\n",
    "              'acceleration','model year','origin','name']\n",
    "pd_data"
   ]
  },
  {
   "cell_type": "code",
   "execution_count": 7,
   "id": "e5ab2b43",
   "metadata": {},
   "outputs": [
    {
     "name": "stdout",
     "output_type": "stream",
     "text": [
      "<class 'pandas.core.frame.DataFrame'>\n",
      "RangeIndex: 398 entries, 0 to 397\n",
      "Data columns (total 9 columns):\n",
      " #   Column        Non-Null Count  Dtype  \n",
      "---  ------        --------------  -----  \n",
      " 0   mpg           398 non-null    float64\n",
      " 1   cylinders     398 non-null    int64  \n",
      " 2   displacement  398 non-null    float64\n",
      " 3   horsepower    398 non-null    object \n",
      " 4   weight        398 non-null    float64\n",
      " 5   acceleration  398 non-null    float64\n",
      " 6   model year    398 non-null    int64  \n",
      " 7   origin        398 non-null    int64  \n",
      " 8   name          398 non-null    object \n",
      "dtypes: float64(4), int64(3), object(2)\n",
      "memory usage: 28.1+ KB\n"
     ]
    }
   ],
   "source": [
    "pd_data.info()"
   ]
  },
  {
   "cell_type": "code",
   "execution_count": 8,
   "id": "f30cb41c",
   "metadata": {},
   "outputs": [],
   "source": [
    "x = pd_data[['weight', 'cylinders']]"
   ]
  },
  {
   "cell_type": "code",
   "execution_count": 9,
   "id": "6e235fe0",
   "metadata": {},
   "outputs": [],
   "source": [
    "y = pd_data[['mpg']]"
   ]
  },
  {
   "cell_type": "code",
   "execution_count": 10,
   "id": "b7a5e3b7",
   "metadata": {},
   "outputs": [
    {
     "data": {
      "text/plain": [
       "((398, 2), (398, 1))"
      ]
     },
     "execution_count": 10,
     "metadata": {},
     "output_type": "execute_result"
    }
   ],
   "source": [
    "x.shape, y.shape"
   ]
  },
  {
   "cell_type": "code",
   "execution_count": 11,
   "id": "14c7490c",
   "metadata": {},
   "outputs": [],
   "source": [
    "# pd_data[['weight','cylinders','mpg']]"
   ]
  },
  {
   "cell_type": "code",
   "execution_count": 12,
   "id": "ea172963",
   "metadata": {},
   "outputs": [],
   "source": [
    "from sklearn.model_selection import train_test_split"
   ]
  },
  {
   "cell_type": "code",
   "execution_count": 13,
   "id": "da7c89f2",
   "metadata": {},
   "outputs": [
    {
     "data": {
      "text/plain": [
       "((298, 2), (100, 2), (298, 1), (100, 1))"
      ]
     },
     "execution_count": 13,
     "metadata": {},
     "output_type": "execute_result"
    }
   ],
   "source": [
    "X_train, X_test,Y_train, Y_test =train_test_split(x,y)\n",
    "X_train.shape, X_test.shape,Y_train.shape, Y_test.shape"
   ]
  },
  {
   "cell_type": "code",
   "execution_count": 14,
   "id": "7e51acfe",
   "metadata": {},
   "outputs": [],
   "source": [
    "from sklearn.linear_model import LinearRegression"
   ]
  },
  {
   "cell_type": "code",
   "execution_count": 15,
   "id": "08c708c6",
   "metadata": {},
   "outputs": [],
   "source": [
    "lr=LinearRegression()"
   ]
  },
  {
   "cell_type": "code",
   "execution_count": 16,
   "id": "d6c8287c",
   "metadata": {},
   "outputs": [
    {
     "data": {
      "text/plain": [
       "LinearRegression()"
      ]
     },
     "execution_count": 16,
     "metadata": {},
     "output_type": "execute_result"
    }
   ],
   "source": [
    "# lr.fit(x,y)\n",
    "lr.fit(X_train,Y_train)"
   ]
  },
  {
   "cell_type": "code",
   "execution_count": 17,
   "id": "05fe76c7",
   "metadata": {},
   "outputs": [
    {
     "data": {
      "text/plain": [
       "(array([[-0.00626145, -0.83856036]]), array([46.80649105]))"
      ]
     },
     "execution_count": 17,
     "metadata": {},
     "output_type": "execute_result"
    }
   ],
   "source": [
    "#split data with 1 column\n",
    "lr.coef_,lr.intercept_"
   ]
  },
  {
   "cell_type": "markdown",
   "id": "403c3031",
   "metadata": {},
   "source": [
    "첫번째 x는 첫번째 컬럼,\n",
    "두번째 x는 두번째 컬럼\n",
    "\n",
    "y= weight + cylinders + mpg"
   ]
  },
  {
   "cell_type": "code",
   "execution_count": 18,
   "id": "41da1691",
   "metadata": {},
   "outputs": [
    {
     "data": {
      "text/plain": [
       "0.6958938319802959"
      ]
     },
     "execution_count": 18,
     "metadata": {},
     "output_type": "execute_result"
    }
   ],
   "source": [
    "# check with total data\n",
    "lr.score(x,y)"
   ]
  },
  {
   "cell_type": "code",
   "execution_count": 19,
   "id": "7f593869",
   "metadata": {},
   "outputs": [
    {
     "data": {
      "text/plain": [
       "0.7232406868640677"
      ]
     },
     "execution_count": 19,
     "metadata": {},
     "output_type": "execute_result"
    }
   ],
   "source": [
    "# check with a part train data\n",
    "lr.score(X_train,Y_train)"
   ]
  },
  {
   "cell_type": "code",
   "execution_count": 20,
   "id": "4917fd88",
   "metadata": {},
   "outputs": [
    {
     "data": {
      "text/plain": [
       "0.6042739505045989"
      ]
     },
     "execution_count": 20,
     "metadata": {},
     "output_type": "execute_result"
    }
   ],
   "source": [
    "# check with a part of test data\n",
    "lr.score(X_test,Y_test)"
   ]
  },
  {
   "cell_type": "markdown",
   "id": "596ada12",
   "metadata": {},
   "source": [
    "### 고객 응대"
   ]
  },
  {
   "cell_type": "code",
   "execution_count": 21,
   "id": "02738111",
   "metadata": {},
   "outputs": [
    {
     "data": {
      "text/plain": [
       "array([[18.15789951]])"
      ]
     },
     "execution_count": 21,
     "metadata": {},
     "output_type": "execute_result"
    }
   ],
   "source": [
    "# weight->cylinders\n",
    "lr.predict([[3504.0, 8]])"
   ]
  },
  {
   "cell_type": "code",
   "execution_count": 22,
   "id": "df9275e3",
   "metadata": {},
   "outputs": [
    {
     "data": {
      "text/plain": [
       "array([[25.98281377]])"
      ]
     },
     "execution_count": 22,
     "metadata": {},
     "output_type": "execute_result"
    }
   ],
   "source": [
    "lr.predict([[2790.0, 4]])"
   ]
  },
  {
   "cell_type": "code",
   "execution_count": 23,
   "id": "0a09f6d5",
   "metadata": {},
   "outputs": [
    {
     "data": {
      "text/plain": [
       "sklearn.linear_model._base.LinearRegression"
      ]
     },
     "execution_count": 23,
     "metadata": {},
     "output_type": "execute_result"
    }
   ],
   "source": [
    "type(lr)"
   ]
  },
  {
   "cell_type": "code",
   "execution_count": 24,
   "id": "54c291b6",
   "metadata": {},
   "outputs": [],
   "source": [
    "import pickle"
   ]
  },
  {
   "cell_type": "code",
   "execution_count": 25,
   "id": "42e3111d",
   "metadata": {},
   "outputs": [],
   "source": [
    "pickle.dump(lr, open('./saves/autompg_lr.pkl','wb'))"
   ]
  },
  {
   "cell_type": "code",
   "execution_count": 26,
   "id": "48e00c23",
   "metadata": {},
   "outputs": [
    {
     "data": {
      "text/plain": [
       "array([[30.11536849],\n",
       "       [11.90897586],\n",
       "       [20.73666852],\n",
       "       [28.41851647],\n",
       "       [31.46157949],\n",
       "       [19.73483708],\n",
       "       [27.25967538],\n",
       "       [25.08742691],\n",
       "       [20.61143959],\n",
       "       [ 8.80955982],\n",
       "       [ 9.09132491],\n",
       "       [20.4235962 ],\n",
       "       [23.20993991],\n",
       "       [14.5387834 ],\n",
       "       [22.55248802],\n",
       "       [26.73418735],\n",
       "       [14.1756195 ],\n",
       "       [32.18164585],\n",
       "       [13.70601101],\n",
       "       [32.3507049 ],\n",
       "       [12.66034944],\n",
       "       [31.96875666],\n",
       "       [17.78847416],\n",
       "       [23.61693393],\n",
       "       [31.02327824],\n",
       "       [29.75220459],\n",
       "       [22.97731942],\n",
       "       [15.991439  ],\n",
       "       [30.49105528],\n",
       "       [29.27633465],\n",
       "       [12.91706875],\n",
       "       [17.37427173],\n",
       "       [20.3296745 ],\n",
       "       [10.67547089],\n",
       "       [22.61510249],\n",
       "       [12.69791812],\n",
       "       [17.52549341],\n",
       "       [14.67653523],\n",
       "       [18.68386102],\n",
       "       [31.0858927 ],\n",
       "       [27.01595245],\n",
       "       [17.31165726],\n",
       "       [23.52927368],\n",
       "       [30.14667572],\n",
       "       [31.16103006],\n",
       "       [13.31153988],\n",
       "       [31.96249522],\n",
       "       [29.66454434],\n",
       "       [25.35666911],\n",
       "       [12.14691082],\n",
       "       [11.93402164],\n",
       "       [20.78049865],\n",
       "       [30.52236251],\n",
       "       [30.02770824],\n",
       "       [15.80359561],\n",
       "       [13.70601101],\n",
       "       [28.58131408],\n",
       "       [30.77282037],\n",
       "       [24.98098232],\n",
       "       [27.14118138],\n",
       "       [16.97448611],\n",
       "       [28.51869962],\n",
       "       [26.95333798],\n",
       "       [19.70352984],\n",
       "       [12.77931693],\n",
       "       [18.4199333 ],\n",
       "       [25.26274741],\n",
       "       [18.50227907],\n",
       "       [29.95883232],\n",
       "       [22.12044821],\n",
       "       [25.01228955],\n",
       "       [27.17248861],\n",
       "       [20.29836726],\n",
       "       [20.60517815],\n",
       "       [16.11666793],\n",
       "       [25.28247872],\n",
       "       [21.6758855 ],\n",
       "       [15.72845825],\n",
       "       [29.33894912],\n",
       "       [31.14850717],\n",
       "       [19.92988888],\n",
       "       [26.47746804],\n",
       "       [15.42790881],\n",
       "       [27.86124773],\n",
       "       [20.4235962 ],\n",
       "       [23.22777729],\n",
       "       [23.22872425],\n",
       "       [29.58314553],\n",
       "       [31.71203736],\n",
       "       [29.64576   ],\n",
       "       [10.93845164],\n",
       "       [32.02510968],\n",
       "       [21.98895783],\n",
       "       [30.71020591],\n",
       "       [26.32719333],\n",
       "       [30.991971  ],\n",
       "       [30.24059742],\n",
       "       [23.72869301],\n",
       "       [31.05458547],\n",
       "       [30.61628421],\n",
       "       [23.7734701 ],\n",
       "       [28.92569364],\n",
       "       [23.47823515],\n",
       "       [20.28584437],\n",
       "       [30.81038905],\n",
       "       [26.92203075],\n",
       "       [29.48922383],\n",
       "       [30.45974805],\n",
       "       [25.9201993 ],\n",
       "       [29.9024793 ],\n",
       "       [16.54870775],\n",
       "       [31.21112163],\n",
       "       [17.50044762],\n",
       "       [27.39163924],\n",
       "       [27.79863327],\n",
       "       [29.95883232],\n",
       "       [12.19074095],\n",
       "       [30.64133   ],\n",
       "       [26.9282922 ],\n",
       "       [26.2019644 ],\n",
       "       [12.39110724],\n",
       "       [16.05405347],\n",
       "       [29.11353704],\n",
       "       [23.05340374],\n",
       "       [30.61002276],\n",
       "       [29.38904069],\n",
       "       [27.28519465],\n",
       "       [20.20444557],\n",
       "       [21.7823301 ],\n",
       "       [23.09097242],\n",
       "       [28.23693452],\n",
       "       [29.39530213],\n",
       "       [26.42111503],\n",
       "       [14.57009064],\n",
       "       [20.24201425],\n",
       "       [17.15606806],\n",
       "       [30.11536849],\n",
       "       [28.39347069],\n",
       "       [14.78924127],\n",
       "       [29.85864918],\n",
       "       [14.43860026],\n",
       "       [23.42909054],\n",
       "       [27.26641031],\n",
       "       [28.73785025],\n",
       "       [13.86254718],\n",
       "       [31.30504333],\n",
       "       [26.26457886],\n",
       "       [15.67836668],\n",
       "       [18.07555374],\n",
       "       [30.39713358],\n",
       "       [10.95723598],\n",
       "       [30.14667572],\n",
       "       [24.64912565],\n",
       "       [26.72166446],\n",
       "       [21.18749267],\n",
       "       [29.9024793 ],\n",
       "       [29.2700732 ],\n",
       "       [27.51686817],\n",
       "       [32.43210371],\n",
       "       [25.52667513],\n",
       "       [17.85640311],\n",
       "       [17.10597649],\n",
       "       [20.11678532],\n",
       "       [27.44799226],\n",
       "       [22.91565192],\n",
       "       [26.29588609],\n",
       "       [26.53382106],\n",
       "       [11.92776019],\n",
       "       [20.93077337],\n",
       "       [31.02327824],\n",
       "       [31.96249522],\n",
       "       [14.71410391],\n",
       "       [10.45005881],\n",
       "       [29.51426962],\n",
       "       [29.05092257],\n",
       "       [27.42294647],\n",
       "       [20.2554841 ],\n",
       "       [15.86621007],\n",
       "       [18.10059953],\n",
       "       [13.0986507 ],\n",
       "       [ 9.09758636],\n",
       "       [17.10597649],\n",
       "       [20.77518416],\n",
       "       [30.14041427],\n",
       "       [29.33268767],\n",
       "       [22.23315425],\n",
       "       [20.07921664],\n",
       "       [22.89686758],\n",
       "       [13.67470378],\n",
       "       [12.14691082],\n",
       "       [18.95215626],\n",
       "       [31.95623377],\n",
       "       [22.11418676],\n",
       "       [24.93715219],\n",
       "       [28.45608515],\n",
       "       [14.42607737],\n",
       "       [25.51320528],\n",
       "       [27.86750918],\n",
       "       [18.91458758],\n",
       "       [19.64091538],\n",
       "       [27.53565251],\n",
       "       [28.61262132],\n",
       "       [31.24242887],\n",
       "       [31.0858927 ],\n",
       "       [11.2014324 ],\n",
       "       [16.17302095],\n",
       "       [33.35253635],\n",
       "       [23.33516884],\n",
       "       [21.66962406],\n",
       "       [21.33776739],\n",
       "       [29.08222981],\n",
       "       [30.991971  ],\n",
       "       [30.92935654],\n",
       "       [27.70471157],\n",
       "       [31.12972283],\n",
       "       [21.53187223],\n",
       "       [30.46600949],\n",
       "       [29.99013956],\n",
       "       [30.17798295],\n",
       "       [30.64759144],\n",
       "       [30.80412761],\n",
       "       [10.46884315],\n",
       "       [22.8592989 ],\n",
       "       [30.96066377],\n",
       "       [12.83566994],\n",
       "       [10.3811829 ],\n",
       "       [30.64759144],\n",
       "       [ 7.91417296],\n",
       "       [19.15252255],\n",
       "       [12.6415651 ],\n",
       "       [16.77411982],\n",
       "       [13.33658567],\n",
       "       [30.9105722 ],\n",
       "       [26.72792591],\n",
       "       [29.94004798],\n",
       "       [29.46417805],\n",
       "       [19.10869242],\n",
       "       [24.86922324],\n",
       "       [12.67287233],\n",
       "       [31.32382767],\n",
       "       [32.21295308],\n",
       "       [31.14850717],\n",
       "       [28.37468635],\n",
       "       [29.95883232],\n",
       "       [30.52236251],\n",
       "       [24.4058762 ],\n",
       "       [13.20509529],\n",
       "       [31.89988075],\n",
       "       [13.01725189],\n",
       "       [14.45112315],\n",
       "       [28.5562683 ],\n",
       "       [21.09983242],\n",
       "       [21.33150594],\n",
       "       [15.42790881],\n",
       "       [33.12712428],\n",
       "       [27.22258018],\n",
       "       [26.42111503],\n",
       "       [11.05741913],\n",
       "       [30.99149752],\n",
       "       [29.74594314],\n",
       "       [29.50174673],\n",
       "       [29.2700732 ],\n",
       "       [26.95333798],\n",
       "       [31.32382767],\n",
       "       [30.24059742],\n",
       "       [22.02026506],\n",
       "       [23.33516884],\n",
       "       [23.42909054],\n",
       "       [29.53305396],\n",
       "       [24.14915689],\n",
       "       [21.22506135],\n",
       "       [23.10254836],\n",
       "       [29.61445276],\n",
       "       [29.18241295],\n",
       "       [12.79810126],\n",
       "       [12.1970024 ],\n",
       "       [26.58391264],\n",
       "       [24.02392796],\n",
       "       [16.4485246 ],\n",
       "       [19.04607796],\n",
       "       [25.19481846],\n",
       "       [25.98281377],\n",
       "       [13.44303026],\n",
       "       [24.89379555],\n",
       "       [14.5513063 ],\n",
       "       [27.6420971 ],\n",
       "       [10.86957573],\n",
       "       [12.40989158],\n",
       "       [30.02144679],\n",
       "       [29.92752509],\n",
       "       [24.71268708],\n",
       "       [14.24449542],\n",
       "       [28.21188874],\n",
       "       [28.45608515],\n",
       "       [30.11536849],\n",
       "       [30.11536849],\n",
       "       [32.21295308],\n",
       "       [15.33398712]])"
      ]
     },
     "execution_count": 26,
     "metadata": {},
     "output_type": "execute_result"
    }
   ],
   "source": [
    "y_predict=lr.predict(X_train)\n",
    "y_predict"
   ]
  },
  {
   "cell_type": "code",
   "execution_count": 30,
   "id": "ad55dda9",
   "metadata": {},
   "outputs": [
    {
     "data": {
      "text/plain": [
       "((298, 1), (298, 1))"
      ]
     },
     "execution_count": 30,
     "metadata": {},
     "output_type": "execute_result"
    }
   ],
   "source": [
    "y_predict.shape , Y_train.shape"
   ]
  },
  {
   "cell_type": "markdown",
   "id": "509fcc51",
   "metadata": {},
   "source": [
    "분산: 편차는 프레딕트한 값과 원래값을 뺀것 \n",
    "\n",
    "y_result=y_predict - Y_train "
   ]
  },
  {
   "cell_type": "code",
   "execution_count": 31,
   "id": "c379bb1c",
   "metadata": {},
   "outputs": [
    {
     "data": {
      "text/html": [
       "<div>\n",
       "<style scoped>\n",
       "    .dataframe tbody tr th:only-of-type {\n",
       "        vertical-align: middle;\n",
       "    }\n",
       "\n",
       "    .dataframe tbody tr th {\n",
       "        vertical-align: top;\n",
       "    }\n",
       "\n",
       "    .dataframe thead th {\n",
       "        text-align: right;\n",
       "    }\n",
       "</style>\n",
       "<table border=\"1\" class=\"dataframe\">\n",
       "  <thead>\n",
       "    <tr style=\"text-align: right;\">\n",
       "      <th></th>\n",
       "      <th>mpg</th>\n",
       "    </tr>\n",
       "  </thead>\n",
       "  <tbody>\n",
       "    <tr>\n",
       "      <th>18</th>\n",
       "      <td>3.115368</td>\n",
       "    </tr>\n",
       "    <tr>\n",
       "      <th>68</th>\n",
       "      <td>-1.091024</td>\n",
       "    </tr>\n",
       "    <tr>\n",
       "      <th>284</th>\n",
       "      <td>0.136669</td>\n",
       "    </tr>\n",
       "    <tr>\n",
       "      <th>109</th>\n",
       "      <td>7.418516</td>\n",
       "    </tr>\n",
       "    <tr>\n",
       "      <th>295</th>\n",
       "      <td>-4.238421</td>\n",
       "    </tr>\n",
       "    <tr>\n",
       "      <th>...</th>\n",
       "      <td>...</td>\n",
       "    </tr>\n",
       "    <tr>\n",
       "      <th>369</th>\n",
       "      <td>-5.543915</td>\n",
       "    </tr>\n",
       "    <tr>\n",
       "      <th>29</th>\n",
       "      <td>3.115368</td>\n",
       "    </tr>\n",
       "    <tr>\n",
       "      <th>304</th>\n",
       "      <td>-7.184632</td>\n",
       "    </tr>\n",
       "    <tr>\n",
       "      <th>198</th>\n",
       "      <td>-0.787047</td>\n",
       "    </tr>\n",
       "    <tr>\n",
       "      <th>287</th>\n",
       "      <td>-1.166013</td>\n",
       "    </tr>\n",
       "  </tbody>\n",
       "</table>\n",
       "<p>298 rows × 1 columns</p>\n",
       "</div>"
      ],
      "text/plain": [
       "          mpg\n",
       "18   3.115368\n",
       "68  -1.091024\n",
       "284  0.136669\n",
       "109  7.418516\n",
       "295 -4.238421\n",
       "..        ...\n",
       "369 -5.543915\n",
       "29   3.115368\n",
       "304 -7.184632\n",
       "198 -0.787047\n",
       "287 -1.166013\n",
       "\n",
       "[298 rows x 1 columns]"
      ]
     },
     "execution_count": 31,
     "metadata": {},
     "output_type": "execute_result"
    }
   ],
   "source": [
    "y_result=y_predict - Y_train \n",
    "y_result"
   ]
  },
  {
   "cell_type": "code",
   "execution_count": 32,
   "id": "5b5aa9a3",
   "metadata": {},
   "outputs": [
    {
     "data": {
      "text/plain": [
       "0.7232406868640677"
      ]
     },
     "execution_count": 32,
     "metadata": {},
     "output_type": "execute_result"
    }
   ],
   "source": [
    "lr.score(X_train, Y_train) "
   ]
  },
  {
   "cell_type": "code",
   "execution_count": null,
   "id": "bfd9440f",
   "metadata": {},
   "outputs": [],
   "source": []
  }
 ],
 "metadata": {
  "kernelspec": {
   "display_name": "Python 3",
   "language": "python",
   "name": "python3"
  },
  "language_info": {
   "codemirror_mode": {
    "name": "ipython",
    "version": 3
   },
   "file_extension": ".py",
   "mimetype": "text/x-python",
   "name": "python",
   "nbconvert_exporter": "python",
   "pygments_lexer": "ipython3",
   "version": "3.6.4"
  }
 },
 "nbformat": 4,
 "nbformat_minor": 5
}
