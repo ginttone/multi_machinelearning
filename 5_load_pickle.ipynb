{
 "cells": [
  {
   "cell_type": "markdown",
   "id": "ffd1983c",
   "metadata": {},
   "source": [
    "피클로 담은 변수를 다시 가져오기"
   ]
  },
  {
   "cell_type": "code",
   "execution_count": 1,
   "id": "f3c57417",
   "metadata": {},
   "outputs": [],
   "source": [
    "import pickle"
   ]
  },
  {
   "cell_type": "code",
   "execution_count": 3,
   "id": "b608a2ca",
   "metadata": {},
   "outputs": [
    {
     "data": {
      "text/plain": [
       "{'lion': 'yellow', 'tiger': 'red'}"
      ]
     },
     "execution_count": 3,
     "metadata": {},
     "output_type": "execute_result"
    }
   ],
   "source": [
    "pickle.load(open('./saves/favorite_save.pkl','rb'))"
   ]
  },
  {
   "cell_type": "code",
   "execution_count": 6,
   "id": "f2dc3fd0",
   "metadata": {},
   "outputs": [
    {
     "data": {
      "text/plain": [
       "({'lion': 'yellow', 'tiger': 'red'}, dict)"
      ]
     },
     "execution_count": 6,
     "metadata": {},
     "output_type": "execute_result"
    }
   ],
   "source": [
    "favorite_load=pickle.load(open('./saves/favorite_save.pkl','rb'))\n",
    "favorite_load,type(favorite_load)"
   ]
  },
  {
   "cell_type": "code",
   "execution_count": 7,
   "id": "b4c6e206",
   "metadata": {},
   "outputs": [
    {
     "data": {
      "text/plain": [
       "'red'"
      ]
     },
     "execution_count": 7,
     "metadata": {},
     "output_type": "execute_result"
    }
   ],
   "source": [
    "favorite_load['tiger']"
   ]
  },
  {
   "cell_type": "code",
   "execution_count": 9,
   "id": "9845f614",
   "metadata": {},
   "outputs": [
    {
     "data": {
      "text/plain": [
       "LinearRegression()"
      ]
     },
     "execution_count": 9,
     "metadata": {},
     "output_type": "execute_result"
    }
   ],
   "source": [
    "pickle.load(open('./saves/autompg_lr.pkl','rb'))"
   ]
  },
  {
   "cell_type": "code",
   "execution_count": 11,
   "id": "e17b0e04",
   "metadata": {},
   "outputs": [
    {
     "data": {
      "text/plain": [
       "(LinearRegression(), sklearn.linear_model._base.LinearRegression)"
      ]
     },
     "execution_count": 11,
     "metadata": {},
     "output_type": "execute_result"
    }
   ],
   "source": [
    "autompg_lr=pickle.load(open('./saves/autompg_lr.pkl','rb'))\n",
    "autompg_lr,type(autompg_lr)"
   ]
  },
  {
   "cell_type": "code",
   "execution_count": 12,
   "id": "67c8b834",
   "metadata": {},
   "outputs": [
    {
     "data": {
      "text/plain": [
       "array([[18.06278254]])"
      ]
     },
     "execution_count": 12,
     "metadata": {},
     "output_type": "execute_result"
    }
   ],
   "source": [
    "autompg_lr.predict([[3504.0,8]])"
   ]
  },
  {
   "cell_type": "code",
   "execution_count": null,
   "id": "462cbab2",
   "metadata": {},
   "outputs": [],
   "source": []
  }
 ],
 "metadata": {
  "kernelspec": {
   "display_name": "Python 3",
   "language": "python",
   "name": "python3"
  },
  "language_info": {
   "codemirror_mode": {
    "name": "ipython",
    "version": 3
   },
   "file_extension": ".py",
   "mimetype": "text/x-python",
   "name": "python",
   "nbconvert_exporter": "python",
   "pygments_lexer": "ipython3",
   "version": "3.6.4"
  }
 },
 "nbformat": 4,
 "nbformat_minor": 5
}
