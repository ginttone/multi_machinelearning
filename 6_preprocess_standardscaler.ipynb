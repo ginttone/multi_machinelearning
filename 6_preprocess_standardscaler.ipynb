{
 "cells": [
  {
   "cell_type": "markdown",
   "id": "b032d11b",
   "metadata": {},
   "source": [
    "컬럼0 컬럼1<br>\n",
    "-----------<br>\n",
    "0  |  0 <br>\n",
    "0  |  0 <br>\n",
    "1  |  1 <br>\n",
    "1  |  1 <br>"
   ]
  },
  {
   "cell_type": "code",
   "execution_count": 1,
   "id": "17d462c5",
   "metadata": {},
   "outputs": [],
   "source": [
    ">>> data = [[0, 0], [0, 0], [1, 1], [1, 1]]"
   ]
  },
  {
   "cell_type": "code",
   "execution_count": 2,
   "id": "a09c4846",
   "metadata": {},
   "outputs": [],
   "source": [
    ">>> from sklearn.preprocessing import StandardScaler\n",
    ">>> scaler = StandardScaler()"
   ]
  },
  {
   "cell_type": "code",
   "execution_count": null,
   "id": "0c4c2255",
   "metadata": {},
   "outputs": [],
   "source": [
    ">>> print(scaler.fit(data))"
   ]
  },
  {
   "cell_type": "code",
   "execution_count": null,
   "id": "8d4e33d3",
   "metadata": {},
   "outputs": [],
   "source": [
    ">>> print(scaler.mean_)"
   ]
  },
  {
   "cell_type": "code",
   "execution_count": null,
   "id": "294c1e55",
   "metadata": {},
   "outputs": [],
   "source": [
    ">>> print(scaler.transform(data))"
   ]
  },
  {
   "cell_type": "code",
   "execution_count": null,
   "id": "2c489946",
   "metadata": {},
   "outputs": [],
   "source": [
    ">>> print(scaler.transform([[2, 2]]))"
   ]
  }
 ],
 "metadata": {
  "kernelspec": {
   "display_name": "Python 3",
   "language": "python",
   "name": "python3"
  },
  "language_info": {
   "codemirror_mode": {
    "name": "ipython",
    "version": 3
   },
   "file_extension": ".py",
   "mimetype": "text/x-python",
   "name": "python",
   "nbconvert_exporter": "python",
   "pygments_lexer": "ipython3",
   "version": "3.6.4"
  }
 },
 "nbformat": 4,
 "nbformat_minor": 5
}
