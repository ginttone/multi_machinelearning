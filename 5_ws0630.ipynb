{
 "cells": [
  {
   "cell_type": "markdown",
   "id": "310b4d92",
   "metadata": {},
   "source": [
    "### 머신러닝 실습\n",
    "#### 데이터:New York City.. in kaggle\n",
    "뉴욕시에서 택시 여행의 총 승차 시간을 예측하는 모델을 구축하는 데 도전하고 있습니다. 기본 데이터 세트는 픽업 시간, 지리적 좌표, 승객 수 및 기타 여러 변수를 포함하는 NYC Taxi and Limousine Commission에서 발표 한 것입니다.\n",
    "\n",
    "오랫동안 Kagglers는이 대회 목표가 2015 년에 주최 한 ECML / PKDD 여행 시간 도전 과 유사하다는 것을 인식 할 것 입니다. 그러나이 도전은 반전이 따릅니다 . 순위표에서 최우수 선수에게 상을 수여하는 대신이 놀이터 대회는 협업과 집단 학습에 대한 보상을 위해 만들어졌습니다.\n",
    "\n",
    "다른 참가자가 예측에 사용할 수있는 추가 교육 데이터를 게시 할 것을 권장합니다 ( 상금과 함께! ). 또한 커뮤니티에 특히 통찰력이 있거나 가치있는 커널 작성자에게 보상하기 위해 격주 및 최종 상을 지정했습니다 .\n",
    "\n",
    "데이터 필드\n",
    "id- 각 여행의 고유 식별자 <br>\n",
    "vendor_id- 여행 기록과 관련된 공급자를 나타내는 코드<br>\n",
    "pickup_datetime- 측정기가 사용 된 날짜 및 시간<br>\n",
    "dropoff_datetime- 측정기가 해제 된 날짜 및 시간<br>\n",
    "passenger_count- 차량에 탑승 한 승객 수 (운전자가 입력 한 값)<br>\n",
    "pickup_longitude- 미터가 사용 된 경도<br>\n",
    "pickup_latitude- 측정기가 사용 된 위도<br>\n",
    "dropoff_longitude- 미터가 해제 된 경도<br>\n",
    "dropoff_latitude- 미터가 해제 된 위도<br>\n",
    "store_and_fwd_flag- 이 플래그는 차량이 서버에 연결되지 않았기 때문에 공급 업체에 보내기 전에 여행 기록이 차량 메모리에 보관되었는지 여부를 나타냅니다.-Y = 저장 및 전달; N = 저장 및 전진 여행 아님<br>\n",
    "trip_duration- 여행 기간 (초)<br>\n",
    "면책 조항 : 커널에서 사용할 확장 된 변수 세트를 제공하기 위해 데이터 세트 주문에서 드롭 오프 좌표를 제거하지 않기로 결정되었습니다.<br>\n",
    "\n",
    "#### 정보단계: \n",
    "*   어느컬럼을 y로 할지 어느컬럼을x로 할지 선택(문제x&답y)(x항은 n개도 가능)\n",
    "*   선택 컬럼에 문제여부 판단(결칩치 있는지 object인지 확인 후 선택)\n",
    "\n",
    "#### 교육단계:\n",
    "*   데이터 스플릿\n",
    "*   교육: Linear Regression\n",
    "*   model 점수 확인\n",
    "\n",
    "#### 서비스 단계:\n",
    "*   pickle로 파일저장 후 불러오기까지 \n",
    "*   predict \n",
    "\n",
    "#### 분석\n",
    "*  model점수를 보고 자신 의견 기록"
   ]
  },
  {
   "cell_type": "code",
   "execution_count": 1,
   "id": "8727443c",
   "metadata": {},
   "outputs": [],
   "source": [
    "import sklearn"
   ]
  },
  {
   "cell_type": "code",
   "execution_count": 2,
   "id": "10dd4e59",
   "metadata": {},
   "outputs": [],
   "source": [
    "import pandas as pd"
   ]
  },
  {
   "cell_type": "markdown",
   "id": "96a6fb8b",
   "metadata": {},
   "source": [
    "---- 주피터에서 사용할 것 임포트"
   ]
  },
  {
   "cell_type": "code",
   "execution_count": 3,
   "id": "ffb12244",
   "metadata": {},
   "outputs": [
    {
     "name": "stdout",
     "output_type": "stream",
     "text": [
      " C 드라이브의 볼륨: Windows\n",
      " 볼륨 일련 번호: 729B-BAE0\n",
      "\n",
      " C:\\Develops\\multi_machinelearning\\files 디렉터리\n",
      "\n",
      "2017-07-20  오전 12:26       200,589,097 train.csv\n",
      "               1개 파일         200,589,097 바이트\n",
      "               0개 디렉터리  192,641,032,192 바이트 남음\n"
     ]
    }
   ],
   "source": [
    "!dir.\\files\\train.csv"
   ]
  },
  {
   "cell_type": "markdown",
   "id": "05a55512",
   "metadata": {},
   "source": [
    "---- 디렉토리에 데이터파일 있는지 확인 "
   ]
  },
  {
   "cell_type": "code",
   "execution_count": 8,
   "id": "308d4054",
   "metadata": {},
   "outputs": [
    {
     "name": "stdout",
     "output_type": "stream",
     "text": [
      "<class 'pandas.core.frame.DataFrame'>\n",
      "RangeIndex: 1458644 entries, 0 to 1458643\n",
      "Data columns (total 11 columns):\n",
      " #   Column              Non-Null Count    Dtype  \n",
      "---  ------              --------------    -----  \n",
      " 0   id                  1458644 non-null  object \n",
      " 1   vendor_id           1458644 non-null  int64  \n",
      " 2   pickup_datetime     1458644 non-null  object \n",
      " 3   dropoff_datetime    1458644 non-null  object \n",
      " 4   passenger_count     1458644 non-null  int64  \n",
      " 5   pickup_longitude    1458644 non-null  float64\n",
      " 6   pickup_latitude     1458644 non-null  float64\n",
      " 7   dropoff_longitude   1458644 non-null  float64\n",
      " 8   dropoff_latitude    1458644 non-null  float64\n",
      " 9   store_and_fwd_flag  1458644 non-null  object \n",
      " 10  trip_duration       1458644 non-null  int64  \n",
      "dtypes: float64(4), int64(3), object(4)\n",
      "memory usage: 122.4+ MB\n"
     ]
    }
   ],
   "source": [
    "pd_data=pd.read_csv('./files/train.csv')\n",
    "pd_data.info()"
   ]
  },
  {
   "cell_type": "markdown",
   "id": "aeac8e20",
   "metadata": {},
   "source": [
    "---- 데이터 인포 확인 코어가 dataframe인거 확인했음"
   ]
  },
  {
   "cell_type": "code",
   "execution_count": 7,
   "id": "4f21619a",
   "metadata": {},
   "outputs": [
    {
     "data": {
      "text/plain": [
       "(1458645, 11)"
      ]
     },
     "execution_count": 7,
     "metadata": {},
     "output_type": "execute_result"
    }
   ],
   "source": [
    "pd_data.shape"
   ]
  },
  {
   "cell_type": "markdown",
   "id": "13e7df7c",
   "metadata": {},
   "source": []
  },
  {
   "cell_type": "code",
   "execution_count": 17,
   "id": "c9139225",
   "metadata": {},
   "outputs": [],
   "source": [
    "x=pd_data[['pickup_longitude','dropoff_longitude']]"
   ]
  },
  {
   "cell_type": "code",
   "execution_count": 18,
   "id": "5886051a",
   "metadata": {},
   "outputs": [],
   "source": [
    "y=pd_data[['passenger_count']]"
   ]
  },
  {
   "cell_type": "code",
   "execution_count": 19,
   "id": "95266a02",
   "metadata": {
    "scrolled": true
   },
   "outputs": [
    {
     "data": {
      "text/plain": [
       "((1458644, 2), (1458644, 1))"
      ]
     },
     "execution_count": 19,
     "metadata": {},
     "output_type": "execute_result"
    }
   ],
   "source": [
    "x.shape, y.shape"
   ]
  },
  {
   "cell_type": "markdown",
   "id": "ee6f75a0",
   "metadata": {},
   "source": [
    "---- "
   ]
  },
  {
   "cell_type": "code",
   "execution_count": 20,
   "id": "7c3df78c",
   "metadata": {},
   "outputs": [],
   "source": [
    "from sklearn.model_selection import train_test_split"
   ]
  },
  {
   "cell_type": "code",
   "execution_count": 21,
   "id": "901cb74c",
   "metadata": {},
   "outputs": [
    {
     "data": {
      "text/plain": [
       "((1093983, 2), (364661, 2), (1093983, 1), (364661, 1))"
      ]
     },
     "execution_count": 21,
     "metadata": {},
     "output_type": "execute_result"
    }
   ],
   "source": [
    "X_train, X_test,Y_train, Y_test =train_test_split(x,y)\n",
    "X_train.shape, X_test.shape,Y_train.shape, Y_test.shape"
   ]
  },
  {
   "cell_type": "markdown",
   "id": "f81d8d1e",
   "metadata": {},
   "source": [
    "---- "
   ]
  },
  {
   "cell_type": "code",
   "execution_count": 14,
   "id": "ccd34b21",
   "metadata": {},
   "outputs": [],
   "source": [
    "from sklearn.linear_model import LinearRegression"
   ]
  },
  {
   "cell_type": "code",
   "execution_count": 15,
   "id": "c39f9974",
   "metadata": {},
   "outputs": [],
   "source": [
    "lr=LinearRegression()"
   ]
  },
  {
   "cell_type": "markdown",
   "id": "9638d07f",
   "metadata": {},
   "source": [
    "---- "
   ]
  },
  {
   "cell_type": "code",
   "execution_count": 22,
   "id": "eae9b20c",
   "metadata": {},
   "outputs": [
    {
     "data": {
      "text/plain": [
       "LinearRegression()"
      ]
     },
     "execution_count": 22,
     "metadata": {},
     "output_type": "execute_result"
    }
   ],
   "source": [
    "# lr.fit(x,y)\n",
    "lr.fit(X_train,Y_train)"
   ]
  },
  {
   "cell_type": "code",
   "execution_count": 23,
   "id": "7800e946",
   "metadata": {},
   "outputs": [
    {
     "data": {
      "text/plain": [
       "(array([[ 0.12387496, -0.10926195]]), array([2.74512864]))"
      ]
     },
     "execution_count": 23,
     "metadata": {},
     "output_type": "execute_result"
    }
   ],
   "source": [
    "#split data with 1 column\n",
    "lr.coef_,lr.intercept_"
   ]
  },
  {
   "cell_type": "code",
   "execution_count": 24,
   "id": "eb87fff8",
   "metadata": {},
   "outputs": [
    {
     "data": {
      "text/plain": [
       "1.5286340702580503e-05"
      ]
     },
     "execution_count": 24,
     "metadata": {},
     "output_type": "execute_result"
    }
   ],
   "source": [
    "# check with total data\n",
    "lr.score(x,y)"
   ]
  },
  {
   "cell_type": "code",
   "execution_count": 25,
   "id": "86394eec",
   "metadata": {},
   "outputs": [
    {
     "data": {
      "text/plain": [
       "1.7691763067095856e-05"
      ]
     },
     "execution_count": 25,
     "metadata": {},
     "output_type": "execute_result"
    }
   ],
   "source": [
    "# check with a part train data\n",
    "lr.score(X_train,Y_train)"
   ]
  },
  {
   "cell_type": "code",
   "execution_count": 26,
   "id": "4faa9002",
   "metadata": {},
   "outputs": [
    {
     "data": {
      "text/plain": [
       "7.076664429117585e-06"
      ]
     },
     "execution_count": 26,
     "metadata": {},
     "output_type": "execute_result"
    }
   ],
   "source": [
    "# check with a part of test data\n",
    "lr.score(X_test,Y_test)"
   ]
  },
  {
   "cell_type": "code",
   "execution_count": null,
   "id": "2eb78da0",
   "metadata": {},
   "outputs": [],
   "source": []
  }
 ],
 "metadata": {
  "kernelspec": {
   "display_name": "Python 3",
   "language": "python",
   "name": "python3"
  },
  "language_info": {
   "codemirror_mode": {
    "name": "ipython",
    "version": 3
   },
   "file_extension": ".py",
   "mimetype": "text/x-python",
   "name": "python",
   "nbconvert_exporter": "python",
   "pygments_lexer": "ipython3",
   "version": "3.6.4"
  }
 },
 "nbformat": 4,
 "nbformat_minor": 5
}
