{
 "cells": [
  {
   "cell_type": "markdown",
   "id": "46349935",
   "metadata": {},
   "source": [
    "변수를 피클로 담았다가 다시 가져오는거 해보기"
   ]
  },
  {
   "cell_type": "code",
   "execution_count": 1,
   "id": "1d9d579d",
   "metadata": {},
   "outputs": [],
   "source": [
    "import pickle"
   ]
  },
  {
   "cell_type": "code",
   "execution_count": 2,
   "id": "7990c922",
   "metadata": {},
   "outputs": [],
   "source": [
    "favorite={'lion':'yellow', 'tiger':'red'}"
   ]
  },
  {
   "cell_type": "code",
   "execution_count": 6,
   "id": "bbd2d73c",
   "metadata": {},
   "outputs": [],
   "source": [
    "#as machine learning, favorite->model valueable\n",
    "pickle.dump(favorite, open('./saves/favorite_save.pkl','wb'))"
   ]
  },
  {
   "cell_type": "code",
   "execution_count": null,
   "id": "4a971581",
   "metadata": {},
   "outputs": [],
   "source": []
  }
 ],
 "metadata": {
  "kernelspec": {
   "display_name": "Python 3",
   "language": "python",
   "name": "python3"
  },
  "language_info": {
   "codemirror_mode": {
    "name": "ipython",
    "version": 3
   },
   "file_extension": ".py",
   "mimetype": "text/x-python",
   "name": "python",
   "nbconvert_exporter": "python",
   "pygments_lexer": "ipython3",
   "version": "3.6.4"
  }
 },
 "nbformat": 4,
 "nbformat_minor": 5
}
