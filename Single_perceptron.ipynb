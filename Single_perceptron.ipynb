{
  "nbformat": 4,
  "nbformat_minor": 0,
  "metadata": {
    "colab": {
      "name": "Single_perceptron.ipynb",
      "provenance": [],
      "collapsed_sections": [],
      "authorship_tag": "ABX9TyOOTn+2Lq7HCoDzjkGIvy2v",
      "include_colab_link": true
    },
    "kernelspec": {
      "name": "python3",
      "display_name": "Python 3"
    },
    "language_info": {
      "name": "python"
    }
  },
  "cells": [
    {
      "cell_type": "markdown",
      "metadata": {
        "id": "view-in-github",
        "colab_type": "text"
      },
      "source": [
        "<a href=\"https://colab.research.google.com/github/ginttone/multi_machinelearning/blob/master/Single_perceptron.ipynb\" target=\"_parent\"><img src=\"https://colab.research.google.com/assets/colab-badge.svg\" alt=\"Open In Colab\"/></a>"
      ]
    },
    {
      "cell_type": "markdown",
      "metadata": {
        "id": "tZwCxqU1qZwP"
      },
      "source": [
        "# tensorflow 설치"
      ]
    },
    {
      "cell_type": "code",
      "metadata": {
        "id": "v3xdSRmQpjKY"
      },
      "source": [
        "import tensorflow as tf"
      ],
      "execution_count": 1,
      "outputs": []
    },
    {
      "cell_type": "markdown",
      "metadata": {
        "id": "bYfDRxkTp160"
      },
      "source": [
        "!python -m pip install -u tensorflow\n",
        "\n",
        "pc성능(GPU)에 따라 영향이 크다."
      ]
    },
    {
      "cell_type": "code",
      "metadata": {
        "colab": {
          "base_uri": "https://localhost:8080/",
          "height": 35
        },
        "id": "1JYr_7eUppfW",
        "outputId": "b75674a7-0839-4786-ef77-da683bbb256c"
      },
      "source": [
        "tf.__version__"
      ],
      "execution_count": 2,
      "outputs": [
        {
          "output_type": "execute_result",
          "data": {
            "application/vnd.google.colaboratory.intrinsic+json": {
              "type": "string"
            },
            "text/plain": [
              "'2.5.0'"
            ]
          },
          "metadata": {
            "tags": []
          },
          "execution_count": 2
        }
      ]
    },
    {
      "cell_type": "markdown",
      "metadata": {
        "id": "K_0nq39KqRaZ"
      },
      "source": [
        "## 기존방식 1960's 딥러닝\n",
        "\n",
        "성공시 보상 크기는 x조건, 실행은 y조건"
      ]
    },
    {
      "cell_type": "code",
      "metadata": {
        "colab": {
          "base_uri": "https://localhost:8080/"
        },
        "id": "RszDoih5qHcp",
        "outputId": "87d1d2dd-758a-412c-9334-ece12e1ead07"
      },
      "source": [
        "x_data = [[0,0],[1,0],[0,1],[1,1]]\n",
        "y_data = [[0],[1],[1],[1]]\n",
        "\n",
        "type(x_data),type(y_data)"
      ],
      "execution_count": 3,
      "outputs": [
        {
          "output_type": "execute_result",
          "data": {
            "text/plain": [
              "(list, list)"
            ]
          },
          "metadata": {
            "tags": []
          },
          "execution_count": 3
        }
      ]
    },
    {
      "cell_type": "markdown",
      "metadata": {
        "id": "lFQ3caTWrjS8"
      },
      "source": [
        "### type이 list 인 것은 tensorflow 에서 사용 못하기 때분에 numpy로 바꾸어준다"
      ]
    },
    {
      "cell_type": "code",
      "metadata": {
        "colab": {
          "base_uri": "https://localhost:8080/"
        },
        "id": "76x9vogvrikJ",
        "outputId": "e1cbd21d-cd06-46bd-bd72-ffcb351ac3c2"
      },
      "source": [
        "import numpy as np\n",
        "\n",
        "x_train = np.array(x_data)\n",
        "y_train = np.array(y_data)\n",
        "x_train.shape , y_train.shape"
      ],
      "execution_count": 4,
      "outputs": [
        {
          "output_type": "execute_result",
          "data": {
            "text/plain": [
              "((4, 2), (4, 1))"
            ]
          },
          "metadata": {
            "tags": []
          },
          "execution_count": 4
        }
      ]
    },
    {
      "cell_type": "markdown",
      "metadata": {
        "id": "ugf8eFUCsMOD"
      },
      "source": [
        "기존 머신러닝은 데이터 틀을 보고 자동적으로 판단을 했었다. 프리딕트 할 때 학습한것을 바탕으로 했었다. \n",
        "\n",
        "### 하지만, 딥러닝의 경우에는  인풋과 아웃풋을 사용자가 넣어줘야 한다. 그 전체 틀을 모델이라고 한다.\n",
        "\n",
        "모델 구성하는 원리\n",
        "\n",
        "1. 담을 그릇 들기 (model)\n",
        "\n"
      ]
    },
    {
      "cell_type": "code",
      "metadata": {
        "id": "AW3ZNZgmra9E"
      },
      "source": [
        "model=tf.keras.models.Sequential()"
      ],
      "execution_count": 5,
      "outputs": []
    },
    {
      "cell_type": "markdown",
      "metadata": {
        "id": "jk9SABOYwUp4"
      },
      "source": [
        "2. 해당 코너에서 원하는 것 담기 (tf.keras.Input)\n",
        "\n",
        "```\n",
        "tf.keras.Input(\n",
        "    shape=None, batch_size=None, name=None, dtype=None, sparse=None, tensor=None,\n",
        "    ragged=None, type_spec=None, **kwargs\n",
        ")\n",
        "```\n",
        "\n",
        "  * 얼만큼 그릇에 담을지 정해줌(x)\n",
        "\n",
        "  shape = ( 첫번째 넣는 갯수의 모양은 열의갯수 ,  )\n",
        "\n"
      ]
    },
    {
      "cell_type": "code",
      "metadata": {
        "colab": {
          "base_uri": "https://localhost:8080/"
        },
        "id": "GOjGFVzRt9ZH",
        "outputId": "be45e713-61e2-4746-bb28-c306af8ed57c"
      },
      "source": [
        "model.add(tf.keras.Input(shape=(2,)))"
      ],
      "execution_count": 6,
      "outputs": [
        {
          "output_type": "stream",
          "text": [
            "WARNING:tensorflow:Please add `keras.layers.InputLayer` instead of `keras.Input` to Sequential model. `keras.Input` is intended to be used by Functional model.\n"
          ],
          "name": "stdout"
        }
      ]
    },
    {
      "cell_type": "markdown",
      "metadata": {
        "id": "U8KnzHSewo6d"
      },
      "source": [
        " * 뷔페layers 에서 많은 코너 중 Dense에서 가져오기.(tf.keras.layers.Dense)\n",
        " \n",
        " ```\n",
        " tf.keras.layers.Dense(\n",
        "    units, activation=None, use_bias=True,\n",
        "    kernel_initializer='glorot_uniform',\n",
        "    bias_initializer='zeros', kernel_regularizer=None,\n",
        "    bias_regularizer=None, activity_regularizer=None, kernel_constraint=None,\n",
        "    bias_constraint=None, **kwargs\n",
        ")\n",
        " ```\n",
        "\n",
        " 클레시피케이션 처럼 기능을 넣어 줄 때는 Dense : 1개인지 2개인지 3개인지 ... n개인지 명기하기(y)"
      ]
    },
    {
      "cell_type": "code",
      "metadata": {
        "id": "pETd0XTowoNN"
      },
      "source": [
        "model.add(tf.keras.layers.Dense(1))"
      ],
      "execution_count": 7,
      "outputs": []
    },
    {
      "cell_type": "markdown",
      "metadata": {
        "id": "Y_jR4fsHyCnM"
      },
      "source": [
        "* 이제 가져온 것을 포크로 먹을래 젓가락으로 먹을래 ? 등  먹기 편하게 도구 줘\n",
        "\n",
        "optimizer은 도구로 얼만큼 찍는지 횟수 알려줌\n",
        "\n",
        "loss 하나의 음식을 어디를 찔렀을때 먹기편한 위치인지 숫자로 나타내줌 (중앙 = 1, 끝 = 0)"
      ]
    },
    {
      "cell_type": "code",
      "metadata": {
        "id": "HJ9FesfLxEoX"
      },
      "source": [
        "model.compile(optimizer='sgd',loss='mse')"
      ],
      "execution_count": 8,
      "outputs": []
    },
    {
      "cell_type": "markdown",
      "metadata": {
        "id": "RQ-VUKlXyWmd"
      },
      "source": [
        "3. 모델 완료 되었기 때문에 fit해준다 (교육완료)"
      ]
    },
    {
      "cell_type": "code",
      "metadata": {
        "colab": {
          "base_uri": "https://localhost:8080/"
        },
        "id": "zohsGdFIyUHO",
        "outputId": "f2ed64bf-3254-4d40-f1c3-58e153252d1b"
      },
      "source": [
        "model.fit(x_train,y_train)"
      ],
      "execution_count": 9,
      "outputs": [
        {
          "output_type": "stream",
          "text": [
            "1/1 [==============================] - 0s 254ms/step - loss: 3.0378\n"
          ],
          "name": "stdout"
        },
        {
          "output_type": "execute_result",
          "data": {
            "text/plain": [
              "<tensorflow.python.keras.callbacks.History at 0x7f27784b9850>"
            ]
          },
          "metadata": {
            "tags": []
          },
          "execution_count": 9
        }
      ]
    },
    {
      "cell_type": "markdown",
      "metadata": {
        "id": "ptXkAixKMYol"
      },
      "source": [
        "### 아웃풋은 predict 한다."
      ]
    },
    {
      "cell_type": "code",
      "metadata": {
        "colab": {
          "base_uri": "https://localhost:8080/"
        },
        "id": "I3vmvpJjMYJU",
        "outputId": "92b17acb-6e8b-449f-d963-45847a99db6e"
      },
      "source": [
        "model.predict([[0,1]]) # epochs = 1"
      ],
      "execution_count": 10,
      "outputs": [
        {
          "output_type": "execute_result",
          "data": {
            "text/plain": [
              "array([[-1.1957254]], dtype=float32)"
            ]
          },
          "metadata": {
            "tags": []
          },
          "execution_count": 10
        }
      ]
    },
    {
      "cell_type": "markdown",
      "metadata": {
        "id": "GZfzvcQ5EO1q"
      },
      "source": [
        "* model.get_weights()\n",
        "\n",
        "리니어 레그레이션의 x의 개수(weights), y의 절편(기울기,bias) 처럼 나온다.\n",
        "\n",
        "y = ax + bx + c\n",
        "\n",
        "y = -0.13575263x  + -1.2247406x + 0.02901516"
      ]
    },
    {
      "cell_type": "code",
      "metadata": {
        "colab": {
          "base_uri": "https://localhost:8080/"
        },
        "id": "1KlH1ZbEDhgu",
        "outputId": "196eb0cc-7909-4fc1-b448-5a1f496c115b"
      },
      "source": [
        "model.get_weights()"
      ],
      "execution_count": 11,
      "outputs": [
        {
          "output_type": "execute_result",
          "data": {
            "text/plain": [
              "[array([[-0.13575263],\n",
              "        [-1.2247406 ]], dtype=float32), array([0.02901516], dtype=float32)]"
            ]
          },
          "metadata": {
            "tags": []
          },
          "execution_count": 11
        }
      ]
    },
    {
      "cell_type": "markdown",
      "metadata": {
        "id": "OhbcuWPcF_pQ"
      },
      "source": [
        "### 모델을 그래프로 찍기(tf.keras.utils.plot_model)\n",
        "\n",
        "```\n",
        "input = tf.keras.Input(shape=(100,), dtype='int32', name='input')\n",
        "x = tf.keras.layers.Embedding(\n",
        "    output_dim=512, input_dim=10000, input_length=100)(input)\n",
        "x = tf.keras.layers.LSTM(32)(x)\n",
        "x = tf.keras.layers.Dense(64, activation='relu')(x)\n",
        "x = tf.keras.layers.Dense(64, activation='relu')(x)\n",
        "x = tf.keras.layers.Dense(64, activation='relu')(x)\n",
        "output = tf.keras.layers.Dense(1, activation='sigmoid', name='output')(x)\n",
        "model = tf.keras.Model(inputs=[input], outputs=[output])\n",
        "dot_img_file = '/tmp/model_1.png'\n",
        "tf.keras.utils.plot_model(model, to_file=dot_img_file, show_shapes=True)\n",
        "```\n"
      ]
    },
    {
      "cell_type": "code",
      "metadata": {
        "colab": {
          "base_uri": "https://localhost:8080/",
          "height": 174
        },
        "id": "MJqfNu5aEK-c",
        "outputId": "30e86af4-8393-4122-9b65-09377534914f"
      },
      "source": [
        "tf.keras.utils.plot_model(model)"
      ],
      "execution_count": 12,
      "outputs": [
        {
          "output_type": "execute_result",
          "data": {
            "image/png": "[encoded data removed]",
            "text/plain": [
              "<IPython.core.display.Image object>"
            ]
          },
          "metadata": {
            "tags": []
          },
          "execution_count": 12
        }
      ]
    },
    {
      "cell_type": "code",
      "metadata": {
        "colab": {
          "base_uri": "https://localhost:8080/",
          "height": 201
        },
        "id": "GwQaOniPGUph",
        "outputId": "ebede867-1354-4953-d571-c0acff33be8d"
      },
      "source": [
        "tf.keras.utils.plot_model(model, show_shapes=True)"
      ],
      "execution_count": 13,
      "outputs": [
        {
          "output_type": "execute_result",
          "data": {
            "image/png": "[encoded data removed]",
            "text/plain": [
              "<IPython.core.display.Image object>"
            ]
          },
          "metadata": {
            "tags": []
          },
          "execution_count": 13
        }
      ]
    },
    {
      "cell_type": "markdown",
      "metadata": {
        "id": "VlhstYndUDJa"
      },
      "source": [
        "## 현재 딥러닝\n"
      ]
    },
    {
      "cell_type": "code",
      "metadata": {
        "id": "UaBD0BuDUkok"
      },
      "source": [
        "import numpy as np\n",
        "\n",
        "xx_train = np.array(x_data)\n",
        "yy_train = np.array(y_data)"
      ],
      "execution_count": 14,
      "outputs": []
    },
    {
      "cell_type": "code",
      "metadata": {
        "colab": {
          "base_uri": "https://localhost:8080/"
        },
        "id": "xAOBBcY2UrVC",
        "outputId": "85b12dec-e9d7-4c7f-d494-e067fa91da1c"
      },
      "source": [
        "model2=tf.keras.models.Sequential()\n",
        "model2.add(tf.keras.Input(shape=(2,)))\n",
        "model2.add(tf.keras.layers.Dense(1))\n",
        "\n",
        "model2.compile(optimizer='sgd',loss='mse')"
      ],
      "execution_count": 15,
      "outputs": [
        {
          "output_type": "stream",
          "text": [
            "WARNING:tensorflow:Please add `keras.layers.InputLayer` instead of `keras.Input` to Sequential model. `keras.Input` is intended to be used by Functional model.\n"
          ],
          "name": "stdout"
        }
      ]
    },
    {
      "cell_type": "code",
      "metadata": {
        "colab": {
          "base_uri": "https://localhost:8080/"
        },
        "id": "K1tgjmOVGniK",
        "outputId": "8350fa83-df55-416b-f927-a1af1f0ccba1"
      },
      "source": [
        "model2.fit(xx_train, yy_train, epochs=500)"
      ],
      "execution_count": 25,
      "outputs": [
        {
          "output_type": "stream",
          "text": [
            "Epoch 1/500\n",
            "1/1 [==============================] - 0s 10ms/step - loss: 0.0662\n",
            "Epoch 2/500\n",
            "1/1 [==============================] - 0s 4ms/step - loss: 0.0662\n",
            "Epoch 3/500\n",
            "1/1 [==============================] - 0s 7ms/step - loss: 0.0661\n",
            "Epoch 4/500\n",
            "1/1 [==============================] - 0s 4ms/step - loss: 0.0661\n",
            "Epoch 5/500\n",
            "1/1 [==============================] - 0s 4ms/step - loss: 0.0661\n",
            "Epoch 6/500\n",
            "1/1 [==============================] - 0s 7ms/step - loss: 0.0661\n",
            "Epoch 7/500\n",
            "1/1 [==============================] - 0s 5ms/step - loss: 0.0660\n",
            "Epoch 8/500\n",
            "1/1 [==============================] - 0s 5ms/step - loss: 0.0660\n",
            "Epoch 9/500\n",
            "1/1 [==============================] - 0s 4ms/step - loss: 0.0660\n",
            "Epoch 10/500\n",
            "1/1 [==============================] - 0s 6ms/step - loss: 0.0660\n",
            "Epoch 11/500\n",
            "1/1 [==============================] - 0s 3ms/step - loss: 0.0659\n",
            "Epoch 12/500\n",
            "1/1 [==============================] - 0s 3ms/step - loss: 0.0659\n",
            "Epoch 13/500\n",
            "1/1 [==============================] - 0s 3ms/step - loss: 0.0659\n",
            "Epoch 14/500\n",
            "1/1 [==============================] - 0s 3ms/step - loss: 0.0659\n",
            "Epoch 15/500\n",
            "1/1 [==============================] - 0s 3ms/step - loss: 0.0658\n",
            "Epoch 16/500\n",
            "1/1 [==============================] - 0s 4ms/step - loss: 0.0658\n",
            "Epoch 17/500\n",
            "1/1 [==============================] - 0s 3ms/step - loss: 0.0658\n",
            "Epoch 18/500\n",
            "1/1 [==============================] - 0s 4ms/step - loss: 0.0658\n",
            "Epoch 19/500\n",
            "1/1 [==============================] - 0s 3ms/step - loss: 0.0657\n",
            "Epoch 20/500\n",
            "1/1 [==============================] - 0s 3ms/step - loss: 0.0657\n",
            "Epoch 21/500\n",
            "1/1 [==============================] - 0s 4ms/step - loss: 0.0657\n",
            "Epoch 22/500\n",
            "1/1 [==============================] - 0s 3ms/step - loss: 0.0657\n",
            "Epoch 23/500\n",
            "1/1 [==============================] - 0s 4ms/step - loss: 0.0657\n",
            "Epoch 24/500\n",
            "1/1 [==============================] - 0s 9ms/step - loss: 0.0656\n",
            "Epoch 25/500\n",
            "1/1 [==============================] - 0s 6ms/step - loss: 0.0656\n",
            "Epoch 26/500\n",
            "1/1 [==============================] - 0s 5ms/step - loss: 0.0656\n",
            "Epoch 27/500\n",
            "1/1 [==============================] - 0s 5ms/step - loss: 0.0656\n",
            "Epoch 28/500\n",
            "1/1 [==============================] - 0s 4ms/step - loss: 0.0655\n",
            "Epoch 29/500\n",
            "1/1 [==============================] - 0s 4ms/step - loss: 0.0655\n",
            "Epoch 30/500\n",
            "1/1 [==============================] - 0s 4ms/step - loss: 0.0655\n",
            "Epoch 31/500\n",
            "1/1 [==============================] - 0s 4ms/step - loss: 0.0655\n",
            "Epoch 32/500\n",
            "1/1 [==============================] - 0s 5ms/step - loss: 0.0655\n",
            "Epoch 33/500\n",
            "1/1 [==============================] - 0s 4ms/step - loss: 0.0654\n",
            "Epoch 34/500\n",
            "1/1 [==============================] - 0s 5ms/step - loss: 0.0654\n",
            "Epoch 35/500\n",
            "1/1 [==============================] - 0s 4ms/step - loss: 0.0654\n",
            "Epoch 36/500\n",
            "1/1 [==============================] - 0s 3ms/step - loss: 0.0654\n",
            "Epoch 37/500\n",
            "1/1 [==============================] - 0s 5ms/step - loss: 0.0654\n",
            "Epoch 38/500\n",
            "1/1 [==============================] - 0s 4ms/step - loss: 0.0653\n",
            "Epoch 39/500\n",
            "1/1 [==============================] - 0s 5ms/step - loss: 0.0653\n",
            "Epoch 40/500\n",
            "1/1 [==============================] - 0s 5ms/step - loss: 0.0653\n",
            "Epoch 41/500\n",
            "1/1 [==============================] - 0s 6ms/step - loss: 0.0653\n",
            "Epoch 42/500\n",
            "1/1 [==============================] - 0s 6ms/step - loss: 0.0653\n",
            "Epoch 43/500\n",
            "1/1 [==============================] - 0s 6ms/step - loss: 0.0652\n",
            "Epoch 44/500\n",
            "1/1 [==============================] - 0s 5ms/step - loss: 0.0652\n",
            "Epoch 45/500\n",
            "1/1 [==============================] - 0s 6ms/step - loss: 0.0652\n",
            "Epoch 46/500\n",
            "1/1 [==============================] - 0s 9ms/step - loss: 0.0652\n",
            "Epoch 47/500\n",
            "1/1 [==============================] - 0s 5ms/step - loss: 0.0652\n",
            "Epoch 48/500\n",
            "1/1 [==============================] - 0s 5ms/step - loss: 0.0651\n",
            "Epoch 49/500\n",
            "1/1 [==============================] - 0s 9ms/step - loss: 0.0651\n",
            "Epoch 50/500\n",
            "1/1 [==============================] - 0s 6ms/step - loss: 0.0651\n",
            "Epoch 51/500\n",
            "1/1 [==============================] - 0s 5ms/step - loss: 0.0651\n",
            "Epoch 52/500\n",
            "1/1 [==============================] - 0s 4ms/step - loss: 0.0651\n",
            "Epoch 53/500\n",
            "1/1 [==============================] - 0s 6ms/step - loss: 0.0651\n",
            "Epoch 54/500\n",
            "1/1 [==============================] - 0s 5ms/step - loss: 0.0650\n",
            "Epoch 55/500\n",
            "1/1 [==============================] - 0s 6ms/step - loss: 0.0650\n",
            "Epoch 56/500\n",
            "1/1 [==============================] - 0s 5ms/step - loss: 0.0650\n",
            "Epoch 57/500\n",
            "1/1 [==============================] - 0s 6ms/step - loss: 0.0650\n",
            "Epoch 58/500\n",
            "1/1 [==============================] - 0s 8ms/step - loss: 0.0650\n",
            "Epoch 59/500\n",
            "1/1 [==============================] - 0s 7ms/step - loss: 0.0649\n",
            "Epoch 60/500\n",
            "1/1 [==============================] - 0s 5ms/step - loss: 0.0649\n",
            "Epoch 61/500\n",
            "1/1 [==============================] - 0s 5ms/step - loss: 0.0649\n",
            "Epoch 62/500\n",
            "1/1 [==============================] - 0s 4ms/step - loss: 0.0649\n",
            "Epoch 63/500\n",
            "1/1 [==============================] - 0s 5ms/step - loss: 0.0649\n",
            "Epoch 64/500\n",
            "1/1 [==============================] - 0s 5ms/step - loss: 0.0649\n",
            "Epoch 65/500\n",
            "1/1 [==============================] - 0s 4ms/step - loss: 0.0648\n",
            "Epoch 66/500\n",
            "1/1 [==============================] - 0s 4ms/step - loss: 0.0648\n",
            "Epoch 67/500\n",
            "1/1 [==============================] - 0s 4ms/step - loss: 0.0648\n",
            "Epoch 68/500\n",
            "1/1 [==============================] - 0s 4ms/step - loss: 0.0648\n",
            "Epoch 69/500\n",
            "1/1 [==============================] - 0s 5ms/step - loss: 0.0648\n",
            "Epoch 70/500\n",
            "1/1 [==============================] - 0s 5ms/step - loss: 0.0648\n",
            "Epoch 71/500\n",
            "1/1 [==============================] - 0s 4ms/step - loss: 0.0647\n",
            "Epoch 72/500\n",
            "1/1 [==============================] - 0s 5ms/step - loss: 0.0647\n",
            "Epoch 73/500\n",
            "1/1 [==============================] - 0s 4ms/step - loss: 0.0647\n",
            "Epoch 74/500\n",
            "1/1 [==============================] - 0s 11ms/step - loss: 0.0647\n",
            "Epoch 75/500\n",
            "1/1 [==============================] - 0s 4ms/step - loss: 0.0647\n",
            "Epoch 76/500\n",
            "1/1 [==============================] - 0s 5ms/step - loss: 0.0647\n",
            "Epoch 77/500\n",
            "1/1 [==============================] - 0s 4ms/step - loss: 0.0647\n",
            "Epoch 78/500\n",
            "1/1 [==============================] - 0s 4ms/step - loss: 0.0646\n",
            "Epoch 79/500\n",
            "1/1 [==============================] - 0s 4ms/step - loss: 0.0646\n",
            "Epoch 80/500\n",
            "1/1 [==============================] - 0s 4ms/step - loss: 0.0646\n",
            "Epoch 81/500\n",
            "1/1 [==============================] - 0s 4ms/step - loss: 0.0646\n",
            "Epoch 82/500\n",
            "1/1 [==============================] - 0s 3ms/step - loss: 0.0646\n",
            "Epoch 83/500\n",
            "1/1 [==============================] - 0s 3ms/step - loss: 0.0646\n",
            "Epoch 84/500\n",
            "1/1 [==============================] - 0s 3ms/step - loss: 0.0646\n",
            "Epoch 85/500\n",
            "1/1 [==============================] - 0s 50ms/step - loss: 0.0645\n",
            "Epoch 86/500\n",
            "1/1 [==============================] - 0s 9ms/step - loss: 0.0645\n",
            "Epoch 87/500\n",
            "1/1 [==============================] - 0s 8ms/step - loss: 0.0645\n",
            "Epoch 88/500\n",
            "1/1 [==============================] - 0s 4ms/step - loss: 0.0645\n",
            "Epoch 89/500\n",
            "1/1 [==============================] - 0s 3ms/step - loss: 0.0645\n",
            "Epoch 90/500\n",
            "1/1 [==============================] - 0s 3ms/step - loss: 0.0645\n",
            "Epoch 91/500\n",
            "1/1 [==============================] - 0s 5ms/step - loss: 0.0645\n",
            "Epoch 92/500\n",
            "1/1 [==============================] - 0s 3ms/step - loss: 0.0644\n",
            "Epoch 93/500\n",
            "1/1 [==============================] - 0s 4ms/step - loss: 0.0644\n",
            "Epoch 94/500\n",
            "1/1 [==============================] - 0s 4ms/step - loss: 0.0644\n",
            "Epoch 95/500\n",
            "1/1 [==============================] - 0s 3ms/step - loss: 0.0644\n",
            "Epoch 96/500\n",
            "1/1 [==============================] - 0s 3ms/step - loss: 0.0644\n",
            "Epoch 97/500\n",
            "1/1 [==============================] - 0s 5ms/step - loss: 0.0644\n",
            "Epoch 98/500\n",
            "1/1 [==============================] - 0s 4ms/step - loss: 0.0644\n",
            "Epoch 99/500\n",
            "1/1 [==============================] - 0s 6ms/step - loss: 0.0644\n",
            "Epoch 100/500\n",
            "1/1 [==============================] - 0s 11ms/step - loss: 0.0643\n",
            "Epoch 101/500\n",
            "1/1 [==============================] - 0s 15ms/step - loss: 0.0643\n",
            "Epoch 102/500\n",
            "1/1 [==============================] - 0s 4ms/step - loss: 0.0643\n",
            "Epoch 103/500\n",
            "1/1 [==============================] - 0s 6ms/step - loss: 0.0643\n",
            "Epoch 104/500\n",
            "1/1 [==============================] - 0s 7ms/step - loss: 0.0643\n",
            "Epoch 105/500\n",
            "1/1 [==============================] - 0s 7ms/step - loss: 0.0643\n",
            "Epoch 106/500\n",
            "1/1 [==============================] - 0s 9ms/step - loss: 0.0643\n",
            "Epoch 107/500\n",
            "1/1 [==============================] - 0s 3ms/step - loss: 0.0643\n",
            "Epoch 108/500\n",
            "1/1 [==============================] - 0s 10ms/step - loss: 0.0642\n",
            "Epoch 109/500\n",
            "1/1 [==============================] - 0s 11ms/step - loss: 0.0642\n",
            "Epoch 110/500\n",
            "1/1 [==============================] - 0s 28ms/step - loss: 0.0642\n",
            "Epoch 111/500\n",
            "1/1 [==============================] - 0s 12ms/step - loss: 0.0642\n",
            "Epoch 112/500\n",
            "1/1 [==============================] - 0s 13ms/step - loss: 0.0642\n",
            "Epoch 113/500\n",
            "1/1 [==============================] - 0s 5ms/step - loss: 0.0642\n",
            "Epoch 114/500\n",
            "1/1 [==============================] - 0s 5ms/step - loss: 0.0642\n",
            "Epoch 115/500\n",
            "1/1 [==============================] - 0s 4ms/step - loss: 0.0642\n",
            "Epoch 116/500\n",
            "1/1 [==============================] - 0s 4ms/step - loss: 0.0641\n",
            "Epoch 117/500\n",
            "1/1 [==============================] - 0s 4ms/step - loss: 0.0641\n",
            "Epoch 118/500\n",
            "1/1 [==============================] - 0s 4ms/step - loss: 0.0641\n",
            "Epoch 119/500\n",
            "1/1 [==============================] - 0s 3ms/step - loss: 0.0641\n",
            "Epoch 120/500\n",
            "1/1 [==============================] - 0s 4ms/step - loss: 0.0641\n",
            "Epoch 121/500\n",
            "1/1 [==============================] - 0s 4ms/step - loss: 0.0641\n",
            "Epoch 122/500\n",
            "1/1 [==============================] - 0s 4ms/step - loss: 0.0641\n",
            "Epoch 123/500\n",
            "1/1 [==============================] - 0s 4ms/step - loss: 0.0641\n",
            "Epoch 124/500\n",
            "1/1 [==============================] - 0s 5ms/step - loss: 0.0641\n",
            "Epoch 125/500\n",
            "1/1 [==============================] - 0s 6ms/step - loss: 0.0640\n",
            "Epoch 126/500\n",
            "1/1 [==============================] - 0s 4ms/step - loss: 0.0640\n",
            "Epoch 127/500\n",
            "1/1 [==============================] - 0s 4ms/step - loss: 0.0640\n",
            "Epoch 128/500\n",
            "1/1 [==============================] - 0s 3ms/step - loss: 0.0640\n",
            "Epoch 129/500\n",
            "1/1 [==============================] - 0s 4ms/step - loss: 0.0640\n",
            "Epoch 130/500\n",
            "1/1 [==============================] - 0s 5ms/step - loss: 0.0640\n",
            "Epoch 131/500\n",
            "1/1 [==============================] - 0s 3ms/step - loss: 0.0640\n",
            "Epoch 132/500\n",
            "1/1 [==============================] - 0s 3ms/step - loss: 0.0640\n",
            "Epoch 133/500\n",
            "1/1 [==============================] - 0s 3ms/step - loss: 0.0640\n",
            "Epoch 134/500\n",
            "1/1 [==============================] - 0s 3ms/step - loss: 0.0640\n",
            "Epoch 135/500\n",
            "1/1 [==============================] - 0s 5ms/step - loss: 0.0639\n",
            "Epoch 136/500\n",
            "1/1 [==============================] - 0s 3ms/step - loss: 0.0639\n",
            "Epoch 137/500\n",
            "1/1 [==============================] - 0s 3ms/step - loss: 0.0639\n",
            "Epoch 138/500\n",
            "1/1 [==============================] - 0s 6ms/step - loss: 0.0639\n",
            "Epoch 139/500\n",
            "1/1 [==============================] - 0s 3ms/step - loss: 0.0639\n",
            "Epoch 140/500\n",
            "1/1 [==============================] - 0s 3ms/step - loss: 0.0639\n",
            "Epoch 141/500\n",
            "1/1 [==============================] - 0s 5ms/step - loss: 0.0639\n",
            "Epoch 142/500\n",
            "1/1 [==============================] - 0s 3ms/step - loss: 0.0639\n",
            "Epoch 143/500\n",
            "1/1 [==============================] - 0s 10ms/step - loss: 0.0639\n",
            "Epoch 144/500\n",
            "1/1 [==============================] - 0s 4ms/step - loss: 0.0639\n",
            "Epoch 145/500\n",
            "1/1 [==============================] - 0s 4ms/step - loss: 0.0639\n",
            "Epoch 146/500\n",
            "1/1 [==============================] - 0s 156ms/step - loss: 0.0638\n",
            "Epoch 147/500\n",
            "1/1 [==============================] - 0s 5ms/step - loss: 0.0638\n",
            "Epoch 148/500\n",
            "1/1 [==============================] - 0s 4ms/step - loss: 0.0638\n",
            "Epoch 149/500\n",
            "1/1 [==============================] - 0s 4ms/step - loss: 0.0638\n",
            "Epoch 150/500\n",
            "1/1 [==============================] - 0s 4ms/step - loss: 0.0638\n",
            "Epoch 151/500\n",
            "1/1 [==============================] - 0s 5ms/step - loss: 0.0638\n",
            "Epoch 152/500\n",
            "1/1 [==============================] - 0s 4ms/step - loss: 0.0638\n",
            "Epoch 153/500\n",
            "1/1 [==============================] - 0s 4ms/step - loss: 0.0638\n",
            "Epoch 154/500\n",
            "1/1 [==============================] - 0s 4ms/step - loss: 0.0638\n",
            "Epoch 155/500\n",
            "1/1 [==============================] - 0s 6ms/step - loss: 0.0638\n",
            "Epoch 156/500\n",
            "1/1 [==============================] - 0s 4ms/step - loss: 0.0638\n",
            "Epoch 157/500\n",
            "1/1 [==============================] - 0s 4ms/step - loss: 0.0637\n",
            "Epoch 158/500\n",
            "1/1 [==============================] - 0s 6ms/step - loss: 0.0637\n",
            "Epoch 159/500\n",
            "1/1 [==============================] - 0s 3ms/step - loss: 0.0637\n",
            "Epoch 160/500\n",
            "1/1 [==============================] - 0s 4ms/step - loss: 0.0637\n",
            "Epoch 161/500\n",
            "1/1 [==============================] - 0s 6ms/step - loss: 0.0637\n",
            "Epoch 162/500\n",
            "1/1 [==============================] - 0s 3ms/step - loss: 0.0637\n",
            "Epoch 163/500\n",
            "1/1 [==============================] - 0s 5ms/step - loss: 0.0637\n",
            "Epoch 164/500\n",
            "1/1 [==============================] - 0s 4ms/step - loss: 0.0637\n",
            "Epoch 165/500\n",
            "1/1 [==============================] - 0s 10ms/step - loss: 0.0637\n",
            "Epoch 166/500\n",
            "1/1 [==============================] - 0s 4ms/step - loss: 0.0637\n",
            "Epoch 167/500\n",
            "1/1 [==============================] - 0s 4ms/step - loss: 0.0637\n",
            "Epoch 168/500\n",
            "1/1 [==============================] - 0s 4ms/step - loss: 0.0637\n",
            "Epoch 169/500\n",
            "1/1 [==============================] - 0s 4ms/step - loss: 0.0636\n",
            "Epoch 170/500\n",
            "1/1 [==============================] - 0s 4ms/step - loss: 0.0636\n",
            "Epoch 171/500\n",
            "1/1 [==============================] - 0s 4ms/step - loss: 0.0636\n",
            "Epoch 172/500\n",
            "1/1 [==============================] - 0s 5ms/step - loss: 0.0636\n",
            "Epoch 173/500\n",
            "1/1 [==============================] - 0s 6ms/step - loss: 0.0636\n",
            "Epoch 174/500\n",
            "1/1 [==============================] - 0s 5ms/step - loss: 0.0636\n",
            "Epoch 175/500\n",
            "1/1 [==============================] - 0s 7ms/step - loss: 0.0636\n",
            "Epoch 176/500\n",
            "1/1 [==============================] - 0s 7ms/step - loss: 0.0636\n",
            "Epoch 177/500\n",
            "1/1 [==============================] - 0s 5ms/step - loss: 0.0636\n",
            "Epoch 178/500\n",
            "1/1 [==============================] - 0s 4ms/step - loss: 0.0636\n",
            "Epoch 179/500\n",
            "1/1 [==============================] - 0s 6ms/step - loss: 0.0636\n",
            "Epoch 180/500\n",
            "1/1 [==============================] - 0s 4ms/step - loss: 0.0636\n",
            "Epoch 181/500\n",
            "1/1 [==============================] - 0s 4ms/step - loss: 0.0636\n",
            "Epoch 182/500\n",
            "1/1 [==============================] - 0s 4ms/step - loss: 0.0636\n",
            "Epoch 183/500\n",
            "1/1 [==============================] - 0s 6ms/step - loss: 0.0635\n",
            "Epoch 184/500\n",
            "1/1 [==============================] - 0s 4ms/step - loss: 0.0635\n",
            "Epoch 185/500\n",
            "1/1 [==============================] - 0s 4ms/step - loss: 0.0635\n",
            "Epoch 186/500\n",
            "1/1 [==============================] - 0s 6ms/step - loss: 0.0635\n",
            "Epoch 187/500\n",
            "1/1 [==============================] - 0s 4ms/step - loss: 0.0635\n",
            "Epoch 188/500\n",
            "1/1 [==============================] - 0s 4ms/step - loss: 0.0635\n",
            "Epoch 189/500\n",
            "1/1 [==============================] - 0s 5ms/step - loss: 0.0635\n",
            "Epoch 190/500\n",
            "1/1 [==============================] - 0s 10ms/step - loss: 0.0635\n",
            "Epoch 191/500\n",
            "1/1 [==============================] - 0s 5ms/step - loss: 0.0635\n",
            "Epoch 192/500\n",
            "1/1 [==============================] - 0s 5ms/step - loss: 0.0635\n",
            "Epoch 193/500\n",
            "1/1 [==============================] - 0s 13ms/step - loss: 0.0635\n",
            "Epoch 194/500\n",
            "1/1 [==============================] - 0s 5ms/step - loss: 0.0635\n",
            "Epoch 195/500\n",
            "1/1 [==============================] - 0s 6ms/step - loss: 0.0635\n",
            "Epoch 196/500\n",
            "1/1 [==============================] - 0s 7ms/step - loss: 0.0635\n",
            "Epoch 197/500\n",
            "1/1 [==============================] - 0s 10ms/step - loss: 0.0634\n",
            "Epoch 198/500\n",
            "1/1 [==============================] - 0s 6ms/step - loss: 0.0634\n",
            "Epoch 199/500\n",
            "1/1 [==============================] - 0s 5ms/step - loss: 0.0634\n",
            "Epoch 200/500\n",
            "1/1 [==============================] - 0s 4ms/step - loss: 0.0634\n",
            "Epoch 201/500\n",
            "1/1 [==============================] - 0s 7ms/step - loss: 0.0634\n",
            "Epoch 202/500\n",
            "1/1 [==============================] - 0s 4ms/step - loss: 0.0634\n",
            "Epoch 203/500\n",
            "1/1 [==============================] - 0s 11ms/step - loss: 0.0634\n",
            "Epoch 204/500\n",
            "1/1 [==============================] - 0s 15ms/step - loss: 0.0634\n",
            "Epoch 205/500\n",
            "1/1 [==============================] - 0s 7ms/step - loss: 0.0634\n",
            "Epoch 206/500\n",
            "1/1 [==============================] - 0s 5ms/step - loss: 0.0634\n",
            "Epoch 207/500\n",
            "1/1 [==============================] - 0s 8ms/step - loss: 0.0634\n",
            "Epoch 208/500\n",
            "1/1 [==============================] - 0s 214ms/step - loss: 0.0634\n",
            "Epoch 209/500\n",
            "1/1 [==============================] - 0s 5ms/step - loss: 0.0634\n",
            "Epoch 210/500\n",
            "1/1 [==============================] - 0s 5ms/step - loss: 0.0634\n",
            "Epoch 211/500\n",
            "1/1 [==============================] - 0s 4ms/step - loss: 0.0634\n",
            "Epoch 212/500\n",
            "1/1 [==============================] - 0s 4ms/step - loss: 0.0634\n",
            "Epoch 213/500\n",
            "1/1 [==============================] - 0s 6ms/step - loss: 0.0634\n",
            "Epoch 214/500\n",
            "1/1 [==============================] - 0s 5ms/step - loss: 0.0633\n",
            "Epoch 215/500\n",
            "1/1 [==============================] - 0s 4ms/step - loss: 0.0633\n",
            "Epoch 216/500\n",
            "1/1 [==============================] - 0s 4ms/step - loss: 0.0633\n",
            "Epoch 217/500\n",
            "1/1 [==============================] - 0s 4ms/step - loss: 0.0633\n",
            "Epoch 218/500\n",
            "1/1 [==============================] - 0s 3ms/step - loss: 0.0633\n",
            "Epoch 219/500\n",
            "1/1 [==============================] - 0s 4ms/step - loss: 0.0633\n",
            "Epoch 220/500\n",
            "1/1 [==============================] - 0s 7ms/step - loss: 0.0633\n",
            "Epoch 221/500\n",
            "1/1 [==============================] - 0s 4ms/step - loss: 0.0633\n",
            "Epoch 222/500\n",
            "1/1 [==============================] - 0s 5ms/step - loss: 0.0633\n",
            "Epoch 223/500\n",
            "1/1 [==============================] - 0s 4ms/step - loss: 0.0633\n",
            "Epoch 224/500\n",
            "1/1 [==============================] - 0s 5ms/step - loss: 0.0633\n",
            "Epoch 225/500\n",
            "1/1 [==============================] - 0s 5ms/step - loss: 0.0633\n",
            "Epoch 226/500\n",
            "1/1 [==============================] - 0s 4ms/step - loss: 0.0633\n",
            "Epoch 227/500\n",
            "1/1 [==============================] - 0s 7ms/step - loss: 0.0633\n",
            "Epoch 228/500\n",
            "1/1 [==============================] - 0s 5ms/step - loss: 0.0633\n",
            "Epoch 229/500\n",
            "1/1 [==============================] - 0s 22ms/step - loss: 0.0633\n",
            "Epoch 230/500\n",
            "1/1 [==============================] - 0s 5ms/step - loss: 0.0633\n",
            "Epoch 231/500\n",
            "1/1 [==============================] - 0s 4ms/step - loss: 0.0633\n",
            "Epoch 232/500\n",
            "1/1 [==============================] - 0s 10ms/step - loss: 0.0633\n",
            "Epoch 233/500\n",
            "1/1 [==============================] - 0s 9ms/step - loss: 0.0632\n",
            "Epoch 234/500\n",
            "1/1 [==============================] - 0s 14ms/step - loss: 0.0632\n",
            "Epoch 235/500\n",
            "1/1 [==============================] - 0s 4ms/step - loss: 0.0632\n",
            "Epoch 236/500\n",
            "1/1 [==============================] - 0s 7ms/step - loss: 0.0632\n",
            "Epoch 237/500\n",
            "1/1 [==============================] - 0s 8ms/step - loss: 0.0632\n",
            "Epoch 238/500\n",
            "1/1 [==============================] - 0s 4ms/step - loss: 0.0632\n",
            "Epoch 239/500\n",
            "1/1 [==============================] - 0s 4ms/step - loss: 0.0632\n",
            "Epoch 240/500\n",
            "1/1 [==============================] - 0s 27ms/step - loss: 0.0632\n",
            "Epoch 241/500\n",
            "1/1 [==============================] - 0s 11ms/step - loss: 0.0632\n",
            "Epoch 242/500\n",
            "1/1 [==============================] - 0s 10ms/step - loss: 0.0632\n",
            "Epoch 243/500\n",
            "1/1 [==============================] - 0s 7ms/step - loss: 0.0632\n",
            "Epoch 244/500\n",
            "1/1 [==============================] - 0s 7ms/step - loss: 0.0632\n",
            "Epoch 245/500\n",
            "1/1 [==============================] - 0s 4ms/step - loss: 0.0632\n",
            "Epoch 246/500\n",
            "1/1 [==============================] - 0s 4ms/step - loss: 0.0632\n",
            "Epoch 247/500\n",
            "1/1 [==============================] - 0s 4ms/step - loss: 0.0632\n",
            "Epoch 248/500\n",
            "1/1 [==============================] - 0s 4ms/step - loss: 0.0632\n",
            "Epoch 249/500\n",
            "1/1 [==============================] - 0s 5ms/step - loss: 0.0632\n",
            "Epoch 250/500\n",
            "1/1 [==============================] - 0s 6ms/step - loss: 0.0632\n",
            "Epoch 251/500\n",
            "1/1 [==============================] - 0s 15ms/step - loss: 0.0632\n",
            "Epoch 252/500\n",
            "1/1 [==============================] - 0s 21ms/step - loss: 0.0632\n",
            "Epoch 253/500\n",
            "1/1 [==============================] - 0s 12ms/step - loss: 0.0632\n",
            "Epoch 254/500\n",
            "1/1 [==============================] - 0s 11ms/step - loss: 0.0631\n",
            "Epoch 255/500\n",
            "1/1 [==============================] - 0s 20ms/step - loss: 0.0631\n",
            "Epoch 256/500\n",
            "1/1 [==============================] - 0s 9ms/step - loss: 0.0631\n",
            "Epoch 257/500\n",
            "1/1 [==============================] - 0s 10ms/step - loss: 0.0631\n",
            "Epoch 258/500\n",
            "1/1 [==============================] - 0s 12ms/step - loss: 0.0631\n",
            "Epoch 259/500\n",
            "1/1 [==============================] - 0s 46ms/step - loss: 0.0631\n",
            "Epoch 260/500\n",
            "1/1 [==============================] - 0s 29ms/step - loss: 0.0631\n",
            "Epoch 261/500\n",
            "1/1 [==============================] - 0s 42ms/step - loss: 0.0631\n",
            "Epoch 262/500\n",
            "1/1 [==============================] - 0s 16ms/step - loss: 0.0631\n",
            "Epoch 263/500\n",
            "1/1 [==============================] - 0s 9ms/step - loss: 0.0631\n",
            "Epoch 264/500\n",
            "1/1 [==============================] - 0s 12ms/step - loss: 0.0631\n",
            "Epoch 265/500\n",
            "1/1 [==============================] - 0s 4ms/step - loss: 0.0631\n",
            "Epoch 266/500\n",
            "1/1 [==============================] - 0s 5ms/step - loss: 0.0631\n",
            "Epoch 267/500\n",
            "1/1 [==============================] - 0s 7ms/step - loss: 0.0631\n",
            "Epoch 268/500\n",
            "1/1 [==============================] - 0s 4ms/step - loss: 0.0631\n",
            "Epoch 269/500\n",
            "1/1 [==============================] - 0s 4ms/step - loss: 0.0631\n",
            "Epoch 270/500\n",
            "1/1 [==============================] - 0s 77ms/step - loss: 0.0631\n",
            "Epoch 271/500\n",
            "1/1 [==============================] - 0s 4ms/step - loss: 0.0631\n",
            "Epoch 272/500\n",
            "1/1 [==============================] - 0s 4ms/step - loss: 0.0631\n",
            "Epoch 273/500\n",
            "1/1 [==============================] - 0s 4ms/step - loss: 0.0631\n",
            "Epoch 274/500\n",
            "1/1 [==============================] - 0s 4ms/step - loss: 0.0631\n",
            "Epoch 275/500\n",
            "1/1 [==============================] - 0s 4ms/step - loss: 0.0631\n",
            "Epoch 276/500\n",
            "1/1 [==============================] - 0s 6ms/step - loss: 0.0631\n",
            "Epoch 277/500\n",
            "1/1 [==============================] - 0s 4ms/step - loss: 0.0631\n",
            "Epoch 278/500\n",
            "1/1 [==============================] - 0s 6ms/step - loss: 0.0631\n",
            "Epoch 279/500\n",
            "1/1 [==============================] - 0s 3ms/step - loss: 0.0630\n",
            "Epoch 280/500\n",
            "1/1 [==============================] - 0s 5ms/step - loss: 0.0630\n",
            "Epoch 281/500\n",
            "1/1 [==============================] - 0s 6ms/step - loss: 0.0630\n",
            "Epoch 282/500\n",
            "1/1 [==============================] - 0s 4ms/step - loss: 0.0630\n",
            "Epoch 283/500\n",
            "1/1 [==============================] - 0s 6ms/step - loss: 0.0630\n",
            "Epoch 284/500\n",
            "1/1 [==============================] - 0s 4ms/step - loss: 0.0630\n",
            "Epoch 285/500\n",
            "1/1 [==============================] - 0s 4ms/step - loss: 0.0630\n",
            "Epoch 286/500\n",
            "1/1 [==============================] - 0s 6ms/step - loss: 0.0630\n",
            "Epoch 287/500\n",
            "1/1 [==============================] - 0s 4ms/step - loss: 0.0630\n",
            "Epoch 288/500\n",
            "1/1 [==============================] - 0s 6ms/step - loss: 0.0630\n",
            "Epoch 289/500\n",
            "1/1 [==============================] - 0s 4ms/step - loss: 0.0630\n",
            "Epoch 290/500\n",
            "1/1 [==============================] - 0s 7ms/step - loss: 0.0630\n",
            "Epoch 291/500\n",
            "1/1 [==============================] - 0s 4ms/step - loss: 0.0630\n",
            "Epoch 292/500\n",
            "1/1 [==============================] - 0s 3ms/step - loss: 0.0630\n",
            "Epoch 293/500\n",
            "1/1 [==============================] - 0s 5ms/step - loss: 0.0630\n",
            "Epoch 294/500\n",
            "1/1 [==============================] - 0s 4ms/step - loss: 0.0630\n",
            "Epoch 295/500\n",
            "1/1 [==============================] - 0s 3ms/step - loss: 0.0630\n",
            "Epoch 296/500\n",
            "1/1 [==============================] - 0s 4ms/step - loss: 0.0630\n",
            "Epoch 297/500\n",
            "1/1 [==============================] - 0s 4ms/step - loss: 0.0630\n",
            "Epoch 298/500\n",
            "1/1 [==============================] - 0s 6ms/step - loss: 0.0630\n",
            "Epoch 299/500\n",
            "1/1 [==============================] - 0s 4ms/step - loss: 0.0630\n",
            "Epoch 300/500\n",
            "1/1 [==============================] - 0s 4ms/step - loss: 0.0630\n",
            "Epoch 301/500\n",
            "1/1 [==============================] - 0s 4ms/step - loss: 0.0630\n",
            "Epoch 302/500\n",
            "1/1 [==============================] - 0s 4ms/step - loss: 0.0630\n",
            "Epoch 303/500\n",
            "1/1 [==============================] - 0s 5ms/step - loss: 0.0630\n",
            "Epoch 304/500\n",
            "1/1 [==============================] - 0s 4ms/step - loss: 0.0630\n",
            "Epoch 305/500\n",
            "1/1 [==============================] - 0s 4ms/step - loss: 0.0630\n",
            "Epoch 306/500\n",
            "1/1 [==============================] - 0s 5ms/step - loss: 0.0630\n",
            "Epoch 307/500\n",
            "1/1 [==============================] - 0s 4ms/step - loss: 0.0630\n",
            "Epoch 308/500\n",
            "1/1 [==============================] - 0s 4ms/step - loss: 0.0630\n",
            "Epoch 309/500\n",
            "1/1 [==============================] - 0s 5ms/step - loss: 0.0629\n",
            "Epoch 310/500\n",
            "1/1 [==============================] - 0s 4ms/step - loss: 0.0629\n",
            "Epoch 311/500\n",
            "1/1 [==============================] - 0s 4ms/step - loss: 0.0629\n",
            "Epoch 312/500\n",
            "1/1 [==============================] - 0s 4ms/step - loss: 0.0629\n",
            "Epoch 313/500\n",
            "1/1 [==============================] - 0s 5ms/step - loss: 0.0629\n",
            "Epoch 314/500\n",
            "1/1 [==============================] - 0s 20ms/step - loss: 0.0629\n",
            "Epoch 315/500\n",
            "1/1 [==============================] - 0s 6ms/step - loss: 0.0629\n",
            "Epoch 316/500\n",
            "1/1 [==============================] - 0s 4ms/step - loss: 0.0629\n",
            "Epoch 317/500\n",
            "1/1 [==============================] - 0s 4ms/step - loss: 0.0629\n",
            "Epoch 318/500\n",
            "1/1 [==============================] - 0s 9ms/step - loss: 0.0629\n",
            "Epoch 319/500\n",
            "1/1 [==============================] - 0s 5ms/step - loss: 0.0629\n",
            "Epoch 320/500\n",
            "1/1 [==============================] - 0s 4ms/step - loss: 0.0629\n",
            "Epoch 321/500\n",
            "1/1 [==============================] - 0s 6ms/step - loss: 0.0629\n",
            "Epoch 322/500\n",
            "1/1 [==============================] - 0s 4ms/step - loss: 0.0629\n",
            "Epoch 323/500\n",
            "1/1 [==============================] - 0s 4ms/step - loss: 0.0629\n",
            "Epoch 324/500\n",
            "1/1 [==============================] - 0s 9ms/step - loss: 0.0629\n",
            "Epoch 325/500\n",
            "1/1 [==============================] - 0s 4ms/step - loss: 0.0629\n",
            "Epoch 326/500\n",
            "1/1 [==============================] - 0s 4ms/step - loss: 0.0629\n",
            "Epoch 327/500\n",
            "1/1 [==============================] - 0s 4ms/step - loss: 0.0629\n",
            "Epoch 328/500\n",
            "1/1 [==============================] - 0s 5ms/step - loss: 0.0629\n",
            "Epoch 329/500\n",
            "1/1 [==============================] - 0s 3ms/step - loss: 0.0629\n",
            "Epoch 330/500\n",
            "1/1 [==============================] - 0s 3ms/step - loss: 0.0629\n",
            "Epoch 331/500\n",
            "1/1 [==============================] - 0s 4ms/step - loss: 0.0629\n",
            "Epoch 332/500\n",
            "1/1 [==============================] - 0s 113ms/step - loss: 0.0629\n",
            "Epoch 333/500\n",
            "1/1 [==============================] - 0s 4ms/step - loss: 0.0629\n",
            "Epoch 334/500\n",
            "1/1 [==============================] - 0s 4ms/step - loss: 0.0629\n",
            "Epoch 335/500\n",
            "1/1 [==============================] - 0s 4ms/step - loss: 0.0629\n",
            "Epoch 336/500\n",
            "1/1 [==============================] - 0s 4ms/step - loss: 0.0629\n",
            "Epoch 337/500\n",
            "1/1 [==============================] - 0s 3ms/step - loss: 0.0629\n",
            "Epoch 338/500\n",
            "1/1 [==============================] - 0s 4ms/step - loss: 0.0629\n",
            "Epoch 339/500\n",
            "1/1 [==============================] - 0s 4ms/step - loss: 0.0629\n",
            "Epoch 340/500\n",
            "1/1 [==============================] - 0s 7ms/step - loss: 0.0629\n",
            "Epoch 341/500\n",
            "1/1 [==============================] - 0s 8ms/step - loss: 0.0629\n",
            "Epoch 342/500\n",
            "1/1 [==============================] - 0s 4ms/step - loss: 0.0629\n",
            "Epoch 343/500\n",
            "1/1 [==============================] - 0s 7ms/step - loss: 0.0629\n",
            "Epoch 344/500\n",
            "1/1 [==============================] - 0s 4ms/step - loss: 0.0629\n",
            "Epoch 345/500\n",
            "1/1 [==============================] - 0s 3ms/step - loss: 0.0629\n",
            "Epoch 346/500\n",
            "1/1 [==============================] - 0s 9ms/step - loss: 0.0629\n",
            "Epoch 347/500\n",
            "1/1 [==============================] - 0s 6ms/step - loss: 0.0629\n",
            "Epoch 348/500\n",
            "1/1 [==============================] - 0s 11ms/step - loss: 0.0628\n",
            "Epoch 349/500\n",
            "1/1 [==============================] - 0s 4ms/step - loss: 0.0628\n",
            "Epoch 350/500\n",
            "1/1 [==============================] - 0s 5ms/step - loss: 0.0628\n",
            "Epoch 351/500\n",
            "1/1 [==============================] - 0s 4ms/step - loss: 0.0628\n",
            "Epoch 352/500\n",
            "1/1 [==============================] - 0s 3ms/step - loss: 0.0628\n",
            "Epoch 353/500\n",
            "1/1 [==============================] - 0s 3ms/step - loss: 0.0628\n",
            "Epoch 354/500\n",
            "1/1 [==============================] - 0s 3ms/step - loss: 0.0628\n",
            "Epoch 355/500\n",
            "1/1 [==============================] - 0s 4ms/step - loss: 0.0628\n",
            "Epoch 356/500\n",
            "1/1 [==============================] - 0s 4ms/step - loss: 0.0628\n",
            "Epoch 357/500\n",
            "1/1 [==============================] - 0s 15ms/step - loss: 0.0628\n",
            "Epoch 358/500\n",
            "1/1 [==============================] - 0s 13ms/step - loss: 0.0628\n",
            "Epoch 359/500\n",
            "1/1 [==============================] - 0s 7ms/step - loss: 0.0628\n",
            "Epoch 360/500\n",
            "1/1 [==============================] - 0s 7ms/step - loss: 0.0628\n",
            "Epoch 361/500\n",
            "1/1 [==============================] - 0s 8ms/step - loss: 0.0628\n",
            "Epoch 362/500\n",
            "1/1 [==============================] - 0s 4ms/step - loss: 0.0628\n",
            "Epoch 363/500\n",
            "1/1 [==============================] - 0s 6ms/step - loss: 0.0628\n",
            "Epoch 364/500\n",
            "1/1 [==============================] - 0s 4ms/step - loss: 0.0628\n",
            "Epoch 365/500\n",
            "1/1 [==============================] - 0s 5ms/step - loss: 0.0628\n",
            "Epoch 366/500\n",
            "1/1 [==============================] - 0s 4ms/step - loss: 0.0628\n",
            "Epoch 367/500\n",
            "1/1 [==============================] - 0s 9ms/step - loss: 0.0628\n",
            "Epoch 368/500\n",
            "1/1 [==============================] - 0s 11ms/step - loss: 0.0628\n",
            "Epoch 369/500\n",
            "1/1 [==============================] - 0s 59ms/step - loss: 0.0628\n",
            "Epoch 370/500\n",
            "1/1 [==============================] - 0s 12ms/step - loss: 0.0628\n",
            "Epoch 371/500\n",
            "1/1 [==============================] - 0s 10ms/step - loss: 0.0628\n",
            "Epoch 372/500\n",
            "1/1 [==============================] - 0s 9ms/step - loss: 0.0628\n",
            "Epoch 373/500\n",
            "1/1 [==============================] - 0s 5ms/step - loss: 0.0628\n",
            "Epoch 374/500\n",
            "1/1 [==============================] - 0s 4ms/step - loss: 0.0628\n",
            "Epoch 375/500\n",
            "1/1 [==============================] - 0s 7ms/step - loss: 0.0628\n",
            "Epoch 376/500\n",
            "1/1 [==============================] - 0s 4ms/step - loss: 0.0628\n",
            "Epoch 377/500\n",
            "1/1 [==============================] - 0s 4ms/step - loss: 0.0628\n",
            "Epoch 378/500\n",
            "1/1 [==============================] - 0s 4ms/step - loss: 0.0628\n",
            "Epoch 379/500\n",
            "1/1 [==============================] - 0s 3ms/step - loss: 0.0628\n",
            "Epoch 380/500\n",
            "1/1 [==============================] - 0s 3ms/step - loss: 0.0628\n",
            "Epoch 381/500\n",
            "1/1 [==============================] - 0s 5ms/step - loss: 0.0628\n",
            "Epoch 382/500\n",
            "1/1 [==============================] - 0s 5ms/step - loss: 0.0628\n",
            "Epoch 383/500\n",
            "1/1 [==============================] - 0s 6ms/step - loss: 0.0628\n",
            "Epoch 384/500\n",
            "1/1 [==============================] - 0s 4ms/step - loss: 0.0628\n",
            "Epoch 385/500\n",
            "1/1 [==============================] - 0s 7ms/step - loss: 0.0628\n",
            "Epoch 386/500\n",
            "1/1 [==============================] - 0s 5ms/step - loss: 0.0628\n",
            "Epoch 387/500\n",
            "1/1 [==============================] - 0s 7ms/step - loss: 0.0628\n",
            "Epoch 388/500\n",
            "1/1 [==============================] - 0s 4ms/step - loss: 0.0628\n",
            "Epoch 389/500\n",
            "1/1 [==============================] - 0s 4ms/step - loss: 0.0628\n",
            "Epoch 390/500\n",
            "1/1 [==============================] - 0s 6ms/step - loss: 0.0628\n",
            "Epoch 391/500\n",
            "1/1 [==============================] - 0s 6ms/step - loss: 0.0628\n",
            "Epoch 392/500\n",
            "1/1 [==============================] - 0s 10ms/step - loss: 0.0628\n",
            "Epoch 393/500\n",
            "1/1 [==============================] - 0s 5ms/step - loss: 0.0628\n",
            "Epoch 394/500\n",
            "1/1 [==============================] - 0s 166ms/step - loss: 0.0628\n",
            "Epoch 395/500\n",
            "1/1 [==============================] - 0s 8ms/step - loss: 0.0628\n",
            "Epoch 396/500\n",
            "1/1 [==============================] - 0s 6ms/step - loss: 0.0628\n",
            "Epoch 397/500\n",
            "1/1 [==============================] - 0s 7ms/step - loss: 0.0628\n",
            "Epoch 398/500\n",
            "1/1 [==============================] - 0s 6ms/step - loss: 0.0628\n",
            "Epoch 399/500\n",
            "1/1 [==============================] - 0s 5ms/step - loss: 0.0627\n",
            "Epoch 400/500\n",
            "1/1 [==============================] - 0s 7ms/step - loss: 0.0627\n",
            "Epoch 401/500\n",
            "1/1 [==============================] - 0s 4ms/step - loss: 0.0627\n",
            "Epoch 402/500\n",
            "1/1 [==============================] - 0s 5ms/step - loss: 0.0627\n",
            "Epoch 403/500\n",
            "1/1 [==============================] - 0s 5ms/step - loss: 0.0627\n",
            "Epoch 404/500\n",
            "1/1 [==============================] - 0s 6ms/step - loss: 0.0627\n",
            "Epoch 405/500\n",
            "1/1 [==============================] - 0s 8ms/step - loss: 0.0627\n",
            "Epoch 406/500\n",
            "1/1 [==============================] - 0s 5ms/step - loss: 0.0627\n",
            "Epoch 407/500\n",
            "1/1 [==============================] - 0s 14ms/step - loss: 0.0627\n",
            "Epoch 408/500\n",
            "1/1 [==============================] - 0s 5ms/step - loss: 0.0627\n",
            "Epoch 409/500\n",
            "1/1 [==============================] - 0s 3ms/step - loss: 0.0627\n",
            "Epoch 410/500\n",
            "1/1 [==============================] - 0s 3ms/step - loss: 0.0627\n",
            "Epoch 411/500\n",
            "1/1 [==============================] - 0s 4ms/step - loss: 0.0627\n",
            "Epoch 412/500\n",
            "1/1 [==============================] - 0s 6ms/step - loss: 0.0627\n",
            "Epoch 413/500\n",
            "1/1 [==============================] - 0s 5ms/step - loss: 0.0627\n",
            "Epoch 414/500\n",
            "1/1 [==============================] - 0s 15ms/step - loss: 0.0627\n",
            "Epoch 415/500\n",
            "1/1 [==============================] - 0s 4ms/step - loss: 0.0627\n",
            "Epoch 416/500\n",
            "1/1 [==============================] - 0s 6ms/step - loss: 0.0627\n",
            "Epoch 417/500\n",
            "1/1 [==============================] - 0s 5ms/step - loss: 0.0627\n",
            "Epoch 418/500\n",
            "1/1 [==============================] - 0s 7ms/step - loss: 0.0627\n",
            "Epoch 419/500\n",
            "1/1 [==============================] - 0s 10ms/step - loss: 0.0627\n",
            "Epoch 420/500\n",
            "1/1 [==============================] - 0s 5ms/step - loss: 0.0627\n",
            "Epoch 421/500\n",
            "1/1 [==============================] - 0s 7ms/step - loss: 0.0627\n",
            "Epoch 422/500\n",
            "1/1 [==============================] - 0s 15ms/step - loss: 0.0627\n",
            "Epoch 423/500\n",
            "1/1 [==============================] - 0s 5ms/step - loss: 0.0627\n",
            "Epoch 424/500\n",
            "1/1 [==============================] - 0s 14ms/step - loss: 0.0627\n",
            "Epoch 425/500\n",
            "1/1 [==============================] - 0s 5ms/step - loss: 0.0627\n",
            "Epoch 426/500\n",
            "1/1 [==============================] - 0s 9ms/step - loss: 0.0627\n",
            "Epoch 427/500\n",
            "1/1 [==============================] - 0s 5ms/step - loss: 0.0627\n",
            "Epoch 428/500\n",
            "1/1 [==============================] - 0s 5ms/step - loss: 0.0627\n",
            "Epoch 429/500\n",
            "1/1 [==============================] - 0s 4ms/step - loss: 0.0627\n",
            "Epoch 430/500\n",
            "1/1 [==============================] - 0s 7ms/step - loss: 0.0627\n",
            "Epoch 431/500\n",
            "1/1 [==============================] - 0s 5ms/step - loss: 0.0627\n",
            "Epoch 432/500\n",
            "1/1 [==============================] - 0s 5ms/step - loss: 0.0627\n",
            "Epoch 433/500\n",
            "1/1 [==============================] - 0s 7ms/step - loss: 0.0627\n",
            "Epoch 434/500\n",
            "1/1 [==============================] - 0s 8ms/step - loss: 0.0627\n",
            "Epoch 435/500\n",
            "1/1 [==============================] - 0s 6ms/step - loss: 0.0627\n",
            "Epoch 436/500\n",
            "1/1 [==============================] - 0s 5ms/step - loss: 0.0627\n",
            "Epoch 437/500\n",
            "1/1 [==============================] - 0s 5ms/step - loss: 0.0627\n",
            "Epoch 438/500\n",
            "1/1 [==============================] - 0s 6ms/step - loss: 0.0627\n",
            "Epoch 439/500\n",
            "1/1 [==============================] - 0s 5ms/step - loss: 0.0627\n",
            "Epoch 440/500\n",
            "1/1 [==============================] - 0s 5ms/step - loss: 0.0627\n",
            "Epoch 441/500\n",
            "1/1 [==============================] - 0s 22ms/step - loss: 0.0627\n",
            "Epoch 442/500\n",
            "1/1 [==============================] - 0s 9ms/step - loss: 0.0627\n",
            "Epoch 443/500\n",
            "1/1 [==============================] - 0s 5ms/step - loss: 0.0627\n",
            "Epoch 444/500\n",
            "1/1 [==============================] - 0s 5ms/step - loss: 0.0627\n",
            "Epoch 445/500\n",
            "1/1 [==============================] - 0s 6ms/step - loss: 0.0627\n",
            "Epoch 446/500\n",
            "1/1 [==============================] - 0s 4ms/step - loss: 0.0627\n",
            "Epoch 447/500\n",
            "1/1 [==============================] - 0s 4ms/step - loss: 0.0627\n",
            "Epoch 448/500\n",
            "1/1 [==============================] - 0s 14ms/step - loss: 0.0627\n",
            "Epoch 449/500\n",
            "1/1 [==============================] - 0s 6ms/step - loss: 0.0627\n",
            "Epoch 450/500\n",
            "1/1 [==============================] - 0s 5ms/step - loss: 0.0627\n",
            "Epoch 451/500\n",
            "1/1 [==============================] - 0s 5ms/step - loss: 0.0627\n",
            "Epoch 452/500\n",
            "1/1 [==============================] - 0s 7ms/step - loss: 0.0627\n",
            "Epoch 453/500\n",
            "1/1 [==============================] - 0s 5ms/step - loss: 0.0627\n",
            "Epoch 454/500\n",
            "1/1 [==============================] - 0s 6ms/step - loss: 0.0627\n",
            "Epoch 455/500\n",
            "1/1 [==============================] - 0s 4ms/step - loss: 0.0627\n",
            "Epoch 456/500\n",
            "1/1 [==============================] - 0s 5ms/step - loss: 0.0627\n",
            "Epoch 457/500\n",
            "1/1 [==============================] - 0s 4ms/step - loss: 0.0627\n",
            "Epoch 458/500\n",
            "1/1 [==============================] - 0s 3ms/step - loss: 0.0627\n",
            "Epoch 459/500\n",
            "1/1 [==============================] - 0s 4ms/step - loss: 0.0627\n",
            "Epoch 460/500\n",
            "1/1 [==============================] - 0s 3ms/step - loss: 0.0627\n",
            "Epoch 461/500\n",
            "1/1 [==============================] - 0s 10ms/step - loss: 0.0627\n",
            "Epoch 462/500\n",
            "1/1 [==============================] - 0s 16ms/step - loss: 0.0627\n",
            "Epoch 463/500\n",
            "1/1 [==============================] - 0s 102ms/step - loss: 0.0627\n",
            "Epoch 464/500\n",
            "1/1 [==============================] - 0s 10ms/step - loss: 0.0627\n",
            "Epoch 465/500\n",
            "1/1 [==============================] - 0s 19ms/step - loss: 0.0627\n",
            "Epoch 466/500\n",
            "1/1 [==============================] - 0s 16ms/step - loss: 0.0627\n",
            "Epoch 467/500\n",
            "1/1 [==============================] - 0s 20ms/step - loss: 0.0627\n",
            "Epoch 468/500\n",
            "1/1 [==============================] - 0s 6ms/step - loss: 0.0627\n",
            "Epoch 469/500\n",
            "1/1 [==============================] - 0s 5ms/step - loss: 0.0627\n",
            "Epoch 470/500\n",
            "1/1 [==============================] - 0s 5ms/step - loss: 0.0627\n",
            "Epoch 471/500\n",
            "1/1 [==============================] - 0s 4ms/step - loss: 0.0627\n",
            "Epoch 472/500\n",
            "1/1 [==============================] - 0s 5ms/step - loss: 0.0627\n",
            "Epoch 473/500\n",
            "1/1 [==============================] - 0s 7ms/step - loss: 0.0627\n",
            "Epoch 474/500\n",
            "1/1 [==============================] - 0s 5ms/step - loss: 0.0627\n",
            "Epoch 475/500\n",
            "1/1 [==============================] - 0s 8ms/step - loss: 0.0627\n",
            "Epoch 476/500\n",
            "1/1 [==============================] - 0s 5ms/step - loss: 0.0627\n",
            "Epoch 477/500\n",
            "1/1 [==============================] - 0s 6ms/step - loss: 0.0627\n",
            "Epoch 478/500\n",
            "1/1 [==============================] - 0s 5ms/step - loss: 0.0626\n",
            "Epoch 479/500\n",
            "1/1 [==============================] - 0s 4ms/step - loss: 0.0626\n",
            "Epoch 480/500\n",
            "1/1 [==============================] - 0s 13ms/step - loss: 0.0626\n",
            "Epoch 481/500\n",
            "1/1 [==============================] - 0s 14ms/step - loss: 0.0626\n",
            "Epoch 482/500\n",
            "1/1 [==============================] - 0s 4ms/step - loss: 0.0626\n",
            "Epoch 483/500\n",
            "1/1 [==============================] - 0s 8ms/step - loss: 0.0626\n",
            "Epoch 484/500\n",
            "1/1 [==============================] - 0s 4ms/step - loss: 0.0626\n",
            "Epoch 485/500\n",
            "1/1 [==============================] - 0s 4ms/step - loss: 0.0626\n",
            "Epoch 486/500\n",
            "1/1 [==============================] - 0s 7ms/step - loss: 0.0626\n",
            "Epoch 487/500\n",
            "1/1 [==============================] - 0s 4ms/step - loss: 0.0626\n",
            "Epoch 488/500\n",
            "1/1 [==============================] - 0s 5ms/step - loss: 0.0626\n",
            "Epoch 489/500\n",
            "1/1 [==============================] - 0s 5ms/step - loss: 0.0626\n",
            "Epoch 490/500\n",
            "1/1 [==============================] - 0s 6ms/step - loss: 0.0626\n",
            "Epoch 491/500\n",
            "1/1 [==============================] - 0s 4ms/step - loss: 0.0626\n",
            "Epoch 492/500\n",
            "1/1 [==============================] - 0s 5ms/step - loss: 0.0626\n",
            "Epoch 493/500\n",
            "1/1 [==============================] - 0s 5ms/step - loss: 0.0626\n",
            "Epoch 494/500\n",
            "1/1 [==============================] - 0s 10ms/step - loss: 0.0626\n",
            "Epoch 495/500\n",
            "1/1 [==============================] - 0s 5ms/step - loss: 0.0626\n",
            "Epoch 496/500\n",
            "1/1 [==============================] - 0s 7ms/step - loss: 0.0626\n",
            "Epoch 497/500\n",
            "1/1 [==============================] - 0s 13ms/step - loss: 0.0626\n",
            "Epoch 498/500\n",
            "1/1 [==============================] - 0s 17ms/step - loss: 0.0626\n",
            "Epoch 499/500\n",
            "1/1 [==============================] - 0s 19ms/step - loss: 0.0626\n",
            "Epoch 500/500\n",
            "1/1 [==============================] - 0s 5ms/step - loss: 0.0626\n"
          ],
          "name": "stdout"
        },
        {
          "output_type": "execute_result",
          "data": {
            "text/plain": [
              "<tensorflow.python.keras.callbacks.History at 0x7f27718403d0>"
            ]
          },
          "metadata": {
            "tags": []
          },
          "execution_count": 25
        }
      ]
    },
    {
      "cell_type": "code",
      "metadata": {
        "colab": {
          "base_uri": "https://localhost:8080/"
        },
        "id": "nBEdN2tnUdhc",
        "outputId": "51cf9cde-fdd0-46f8-a7db-e5589f892a30"
      },
      "source": [
        "model2.predict([[0,1]]) # epochs = 50"
      ],
      "execution_count": 23,
      "outputs": [
        {
          "output_type": "execute_result",
          "data": {
            "text/plain": [
              "array([[0.8042184]], dtype=float32)"
            ]
          },
          "metadata": {
            "tags": []
          },
          "execution_count": 23
        }
      ]
    },
    {
      "cell_type": "code",
      "metadata": {
        "colab": {
          "base_uri": "https://localhost:8080/"
        },
        "id": "PL2JIvzuVOLW",
        "outputId": "337f679d-ef33-4527-9263-eba68b76f147"
      },
      "source": [
        "model2.predict([[0,1]]) # epochs = 500"
      ],
      "execution_count": 26,
      "outputs": [
        {
          "output_type": "execute_result",
          "data": {
            "text/plain": [
              "array([[0.75613916]], dtype=float32)"
            ]
          },
          "metadata": {
            "tags": []
          },
          "execution_count": 26
        }
      ]
    },
    {
      "cell_type": "code",
      "metadata": {
        "id": "t6I_4vbRVfZ5"
      },
      "source": [
        ""
      ],
      "execution_count": 18,
      "outputs": []
    }
  ]
}